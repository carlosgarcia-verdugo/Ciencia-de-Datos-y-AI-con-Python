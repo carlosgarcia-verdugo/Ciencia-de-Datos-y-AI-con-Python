{
 "cells": [
  {
   "cell_type": "markdown",
   "id": "97fa281f",
   "metadata": {},
   "source": [
    "# Introduccion a Python Parte 1\n",
    "\n",
    "* El primer codigo de todo buen programador \"Hello World\""
   ]
  },
  {
   "cell_type": "code",
   "execution_count": null,
   "id": "5f9880a5",
   "metadata": {},
   "outputs": [],
   "source": [
    "print('Hello World!')\n",
    "\n",
    "print('Carlos')\n",
    "\n",
    "# Input permite pedir al usuario una variable\n",
    "\n",
    "name = input('What is your name?\\n')\n",
    "print('Hi, %s.' % name)"
   ]
  },
  {
   "cell_type": "markdown",
   "id": "9181ff16",
   "metadata": {},
   "source": [
    "# Fundamental Data Types (value in python)\n",
    "\n",
    "* int\n",
    "* float \n",
    "* bool #true or false\n",
    "* str #letras\n"
   ]
  },
  {
   "cell_type": "code",
   "execution_count": null,
   "id": "c7e09e9c",
   "metadata": {},
   "outputs": [],
   "source": [
    "#integers full numbers\n",
    "print (2 + 4)\n",
    "print (2 * 4)\n",
    "print (2 - 4)\n",
    "print (2 / 4)\n",
    "\n",
    "print (type(2 + 4))\n",
    "print (type(2 * 4))\n",
    "print (type(2 - 4))\n",
    "print (type(2 / 4))\n",
    "print (type(6.0))\n"
   ]
  },
  {
   "cell_type": "markdown",
   "id": "1059c431",
   "metadata": {},
   "source": [
    "* igual que en matematicas vamos bracket por bracket\n",
    "* Porque se hace esto de int and float en programacion? porque un float toma mucha mas memoria que un int"
   ]
  },
  {
   "cell_type": "code",
   "execution_count": null,
   "id": "1a8ea47b",
   "metadata": {},
   "outputs": [],
   "source": [
    "print(type(10+1.1))\n",
    "print (type(9.9+1.1))\n",
    "print (type(11.0))"
   ]
  },
  {
   "cell_type": "code",
   "execution_count": null,
   "id": "55694a33",
   "metadata": {},
   "outputs": [],
   "source": [
    "#Elevado\n",
    "print(2**3)\n",
    "\n",
    "#redondeado para abajo\n",
    "print(5//4)\n",
    "\n",
    "#Modulo residuo\n",
    "print(8 % 4)\n",
    "\n",
    "#Funciones matematicas por ejemplo print y type son funciones\n",
    "#(CONTROL / para comentar out)\n",
    "print(round(3.1))\n",
    "print(abs(-20))"
   ]
  },
  {
   "cell_type": "code",
   "execution_count": null,
   "id": "4690e4a0",
   "metadata": {},
   "outputs": [],
   "source": [
    "#OPERACIONES EN PYTHON\n",
    "print(20 - 3 * 4)\n",
    "print((20 - 3) + 2**2)\n",
    "#()\n",
    "# ** Elevado a\n",
    "# */\n",
    "# +-"
   ]
  },
  {
   "cell_type": "code",
   "execution_count": null,
   "id": "7d06620b",
   "metadata": {},
   "outputs": [],
   "source": [
    "#Practica comun en programacion \n",
    "#empieza con letra pequenha ejemplo miNombre = Carlos\n",
    "#mi_nombre o mi_nombre\n",
    "#no usen el mismo nombre para 2 variables ni espacios\n",
    "#si usan user_iq no es lo mismo que user_IQ \n",
    "# u no es igual que U\n",
    "# x no es igual que X\n",
    "#no usen variables con nombres de funciones por ejemplo print = 10\n",
    "#intenta explicar bien el nombre de tu variable y donde se usara\n"
   ]
  },
  {
   "cell_type": "code",
   "execution_count": null,
   "id": "5cea4725",
   "metadata": {},
   "outputs": [],
   "source": [
    "import math\n",
    "\n",
    "y = math.pi\n",
    "x = 10\n",
    "print(math.sin(x))\n",
    "print(math.cos(y))\n",
    "\n",
    "a,b,c = 1,2,3\n",
    "print (c)"
   ]
  },
  {
   "cell_type": "code",
   "execution_count": null,
   "id": "67496385",
   "metadata": {},
   "outputs": [],
   "source": [
    "#String variable\n",
    "nombre = 'Carlos'\n",
    "apellido = 'Garcia'\n",
    "nombreCompleto = nombre + ' ' + apellido\n",
    "\n",
    "print(nombreCompleto)\n"
   ]
  },
  {
   "cell_type": "code",
   "execution_count": null,
   "id": "9c059a4d",
   "metadata": {},
   "outputs": [],
   "source": [
    "#string concatination\n",
    "\n",
    "print('Hola' + 'Carlos')\n",
    "print('Hola' + str(5))\n",
    "\n",
    "d = str(5)\n",
    "\n",
    "print (a+ int(d))"
   ]
  },
  {
   "cell_type": "markdown",
   "id": "ae70161c",
   "metadata": {},
   "source": [
    "## Ejercicio\n",
    "* Realiza un codigo que pida tu nombre y edad y los imprima "
   ]
  },
  {
   "cell_type": "code",
   "execution_count": null,
   "id": "54e61a6b",
   "metadata": {},
   "outputs": [],
   "source": [
    "name= input('Indique su nombre ')\n",
    "edad =  29\n",
    "#input('Indique su edad ')\n",
    "print(type(edad))\n",
    "#print('Hola ' + name + '. Tienes ' + edad + ' años')\n",
    "\n",
    "#Comunmente veran f indica que todo el formato es string\n",
    "print(f'Hola {name}. Tienes {edad} años')\n"
   ]
  },
  {
   "cell_type": "code",
   "execution_count": null,
   "id": "a3d58044",
   "metadata": {},
   "outputs": [],
   "source": [
    "#manipulacion de datos\n",
    "\n",
    "name_alumno = 'Victor'\n",
    "              #012345\n",
    "\n",
    "print(name_alumno.upper())\n",
    "print(name_alumno[0])\n",
    "\n",
    "#[start:stop:Salta]\n",
    "print(name_alumno[0::2])\n",
    "print(name_alumno[::-1])\n"
   ]
  },
  {
   "cell_type": "code",
   "execution_count": null,
   "id": "3c112e22",
   "metadata": {},
   "outputs": [],
   "source": [
    "#Modificador\n",
    "\n",
    "dicho = 'ser o no ser'\n",
    "dicho2 = dicho.replace('ser','puta')\n",
    "print(dicho)\n",
    "print(dicho2)"
   ]
  },
  {
   "cell_type": "markdown",
   "id": "393cd49e",
   "metadata": {},
   "source": [
    "# CONDITIONAL\n",
    "* Los condicionales nos ayudan con el control de flujo del codigo\n",
    "* Se utiliza la if statement"
   ]
  },
  {
   "cell_type": "code",
   "execution_count": null,
   "id": "0fc00012",
   "metadata": {},
   "outputs": [],
   "source": [
    "#CONDITIONAL\n",
    "x = -1\n",
    "y = 0\n",
    "\n",
    "if x < y:\n",
    "  print(f'x es negavito ')\n",
    "\n",
    "if 4 == 4:\n",
    "  print(f' Yup 4 es 4')\n",
    "\n",
    "if 4 == 5:\n",
    "  print('f no va a correr')\n",
    "else:\n",
    "  print(f'4 no es 5')\n",
    "\n",
    "if 5 != 6:\n",
    "  print(f'5 no es 6')\n",
    "\n",
    "if (4 / 2)  == 2:\n",
    "  print(\"4 entre 2 es igual a 2\")"
   ]
  },
  {
   "cell_type": "markdown",
   "id": "703c4dcd",
   "metadata": {},
   "source": [
    "## EJERCICIO\n",
    "* ULTIMO EJERCICIO pedir un numero checar si tu numero es par o impar HINT usar resudual % "
   ]
  },
  {
   "cell_type": "code",
   "execution_count": null,
   "id": "6d2803af",
   "metadata": {},
   "outputs": [],
   "source": [
    "#ULTIMO EJERCICIO pedir un numero checar si tu numero es par o impar HINT usar resudual % \n",
    "\n",
    "variable = input('De numero ')\n",
    "variable = int(variable)\n",
    "\n",
    "if (variable % 2) == 0:\n",
    "  print(\"x es par\")\n",
    "else: \n",
    "  print(\"x es impar\")\n",
    "\n",
    "import random \n",
    "n = random.random() \n",
    "print(n)\n",
    "\n",
    "numeroSuerte = random.randint(1,22) \n",
    "\n",
    "tuNumero = input('Elige Numero entre 1 y 22: ')\n",
    "\n",
    "tuNumero = int(tuNumero)\n",
    "if tuNumero == numeroSuerte:\n",
    "  print(\"Felicidades tu numero es el mismo que el de la suerte \" + str(tuNumero))\n",
    "else:\n",
    "  print(\"El numero no es igual, el de la suerte es \" + str(numeroSuerte))\n"
   ]
  }
 ],
 "metadata": {
  "kernelspec": {
   "display_name": "Python 3 (ipykernel)",
   "language": "python",
   "name": "python3"
  },
  "language_info": {
   "codemirror_mode": {
    "name": "ipython",
    "version": 3
   },
   "file_extension": ".py",
   "mimetype": "text/x-python",
   "name": "python",
   "nbconvert_exporter": "python",
   "pygments_lexer": "ipython3",
   "version": "3.10.9"
  }
 },
 "nbformat": 4,
 "nbformat_minor": 5
}
