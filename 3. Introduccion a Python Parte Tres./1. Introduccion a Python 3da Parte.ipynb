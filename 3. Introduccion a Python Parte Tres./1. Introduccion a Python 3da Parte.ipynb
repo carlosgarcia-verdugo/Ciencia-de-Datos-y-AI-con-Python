{
 "cells": [
  {
   "cell_type": "markdown",
   "metadata": {},
   "source": [
    "## Funciones\n",
    "\n",
    "* Una funcion es un bloque de codigo organizado y reuzable que es usado para realizar una accion. \n",
    "* Las funciones proporcionan una mejor modularidad para permitir reutilizar codigo sin tener que volver a escribir todo de nuevo.\n",
    "    * or Copy Paste\n",
    "* Las funciones tienen nombres seguido por parentesis.\n",
    "    * `<Nombre de funcion>(<argumento 1>, <argumento 2>, ...)`\n",
    "* Puedes *llamar* funciones y pasarle *argumentos* a la funcion.\n",
    "* Recuerdan alguna funcion vista en clase?\n",
    "\n"
   ]
  },
  {
   "cell_type": "code",
   "execution_count": null,
   "metadata": {},
   "outputs": [],
   "source": [
    "# Cual es el tipo de dato\n",
    "type(5)"
   ]
  },
  {
   "cell_type": "code",
   "execution_count": null,
   "metadata": {},
   "outputs": [],
   "source": [
    "# Imprime\n",
    "print(\"hi\", 3, 5.38)"
   ]
  },
  {
   "cell_type": "code",
   "execution_count": 5,
   "metadata": {},
   "outputs": [
    {
     "name": "stdout",
     "output_type": "stream",
     "text": [
      "0.05217986991542278\n"
     ]
    }
   ],
   "source": [
    "# importar funciones random and randint\n",
    "from random import random, randint\n",
    "\n",
    "# Generar un numero al azar \n",
    "x = random()\n",
    "print(x)"
   ]
  },
  {
   "cell_type": "code",
   "execution_count": 7,
   "metadata": {},
   "outputs": [
    {
     "data": {
      "text/plain": [
       "-3"
      ]
     },
     "execution_count": 7,
     "metadata": {},
     "output_type": "execute_result"
    }
   ],
   "source": [
    "# Usar la funcion randint para generar numeros enteros al azar\n",
    "randint(-5, 10)"
   ]
  },
  {
   "cell_type": "markdown",
   "metadata": {},
   "source": [
    "## Jupyter nos permite ver la funcionalidad de una funcion\n",
    "\n",
    "* Mueve el cursor sobre el nombre de una funcion y oprime `shift-tab`\n",
    "* Deberia salir la informacion de una funcion *signature* y *documentation*"
   ]
  },
  {
   "cell_type": "raw",
   "metadata": {},
   "source": [
    "### Crear nuestras propias funciones\n",
    "\n",
    "* Nosotros hemos usado funciones ya hechas, como `type()`, `print()`, `random()`.\n",
    "* A veces las funciones que necesitamos no estan disponibles por lo que vamos a tener que crear nuestras propias funciones.\n",
    "* Una funcion empieza con la palabra clave `def` seguido del nombre de la funcion y parentesis _(  )_.\n",
    "* Cualquier parametros debe ser insertado dentro de los parentesis. Tambien puedes definir argumentos dentro de los parentesis.\n",
    "    * Cuando defines una funcion, las variables son *parametros*\n",
    "    * Cuando llamas una funcion, las variables son *argumentos*\n",
    "* Al igual que los condicionales y las iteraciones (if, for, while, etc) el bloque de codigo de cada funcion empieza con dos puntos (:).\n",
    "* La palabra clave `return <expresion>` termina una funcion, puede opcionalmente devuelve una expresion al que llama esta funcion. Un return sin expresion es igual a escribir `return None`.\n",
    "* Python permite crear tus propias funciones usando el siguiente Syntax:\n",
    "\n",
    "```\n",
    "def nombre_funcion(parametro_1, parametro_2):\n",
    "\"\"\"USUALMENTE ESCRIBES QUE HACE LA FUNCION AQUI (OPCIONAL).\"\"\"\n",
    "\n",
    "    Codigo de funcion\n",
    "    mas codigo\n",
    "    \n",
    "    return <expresion>\n",
    "```\n",
    "\n",
    "* Para *llamar* una funcion escribes el nombre de la funcion con parentesis.\n",
    "* Si la funcion necesita argumentos, estas se colocan dentro de parentesis.\n",
    "```\n",
    "nombre_funcion(valor_1, valor_2)\n",
    "```\n",
    "\n",
    "\n",
    "EJEMPLOS"
   ]
  },
  {
   "cell_type": "code",
   "execution_count": 15,
   "metadata": {},
   "outputs": [],
   "source": [
    "# Una funcion basica que no toma parametros \n",
    "def cancion_cuna():\n",
    "    \"\"\"Imprimir cancion\"\"\" # INDICAR QUE HACE FUNCION\n",
    "    \n",
    "    print(\"Duermete ninho, Duermete ya.\")\n",
    "    print('Que viene el coco y te comera.')\n",
    "    \n",
    "    return None # optional "
   ]
  },
  {
   "cell_type": "code",
   "execution_count": 17,
   "metadata": {},
   "outputs": [
    {
     "name": "stdout",
     "output_type": "stream",
     "text": [
      "Duermete ninho, Duermete ya.\n",
      "Que viene el coco y te comera.\n",
      "Duermete ninho, Duermete ya.\n",
      "Que viene el coco y te comera.\n"
     ]
    }
   ],
   "source": [
    "# Llamando funcion\n",
    "cancion_cuna()\n",
    "cancion_cuna()"
   ]
  },
  {
   "cell_type": "markdown",
   "metadata": {},
   "source": [
    "LAS FUNCIONES TAMBIEN NOS AYUDAN A EVITAR USAR ESPACIO "
   ]
  },
  {
   "cell_type": "code",
   "execution_count": 19,
   "metadata": {},
   "outputs": [
    {
     "name": "stdout",
     "output_type": "stream",
     "text": [
      "   *   \n",
      "  ***  \n",
      " ***** \n",
      "*******\n",
      "   *   \n",
      "   *   \n"
     ]
    }
   ],
   "source": [
    "# Hacer un pino de navidad con iteraciones\n",
    "foto = [[0,0,0,1,0,0,0],[0,0,1,1,1,0,0],[0,1,1,1,1,1,0],[1,1,1,1,1,1,1],[0,0,0,1,0,0,0],[0,0,0,1,0,0,0]]\n",
    "for imagen in foto:\n",
    "    for pixel in imagen:\n",
    "        if (pixel):\n",
    "            print('*', end = \"\")\n",
    "        else:\n",
    "            print(' ', end =\"\")\n",
    "    print('')"
   ]
  },
  {
   "cell_type": "code",
   "execution_count": 20,
   "metadata": {},
   "outputs": [
    {
     "name": "stdout",
     "output_type": "stream",
     "text": [
      "   *   \n",
      "  ***  \n",
      " ***** \n",
      "*******\n",
      "   *   \n",
      "   *   \n",
      "   *   \n",
      "  ***  \n",
      " ***** \n",
      "*******\n",
      "   *   \n",
      "   *   \n",
      "   *   \n",
      "  ***  \n",
      " ***** \n",
      "*******\n",
      "   *   \n",
      "   *   \n"
     ]
    }
   ],
   "source": [
    "# Si quiero imprimir el pino de navidad 3 veces\n",
    "for imagen in foto:\n",
    "    for pixel in imagen:\n",
    "        if (pixel):\n",
    "            print('*', end = \"\")\n",
    "        else:\n",
    "            print(' ', end =\"\")\n",
    "    print('')\n",
    "for imagen in foto:\n",
    "    for pixel in imagen:\n",
    "        if (pixel):\n",
    "            print('*', end = \"\")\n",
    "        else:\n",
    "            print(' ', end =\"\")\n",
    "    print('')\n",
    "for imagen in foto:\n",
    "    for pixel in imagen:\n",
    "        if (pixel):\n",
    "            print('*', end = \"\")\n",
    "        else:\n",
    "            print(' ', end =\"\")\n",
    "    print('')"
   ]
  },
  {
   "cell_type": "code",
   "execution_count": 21,
   "metadata": {},
   "outputs": [
    {
     "name": "stdout",
     "output_type": "stream",
     "text": [
      "   *   \n",
      "  ***  \n",
      " ***** \n",
      "*******\n",
      "   *   \n",
      "   *   \n",
      "   *   \n",
      "  ***  \n",
      " ***** \n",
      "*******\n",
      "   *   \n",
      "   *   \n",
      "   *   \n",
      "  ***  \n",
      " ***** \n",
      "*******\n",
      "   *   \n",
      "   *   \n"
     ]
    }
   ],
   "source": [
    "# Mejor con una funcion\n",
    "def pino_navidad():\n",
    "    \"\"\"Imprimir arbol de navidad\"\"\"\n",
    "    for imagen in foto:\n",
    "        for pixel in imagen:\n",
    "            if (pixel):\n",
    "                print('*', end = \"\")\n",
    "            else:\n",
    "                print(' ', end =\"\")\n",
    "        print('')\n",
    "pino_navidad()\n",
    "pino_navidad()\n",
    "pino_navidad()"
   ]
  },
  {
   "cell_type": "markdown",
   "metadata": {},
   "source": [
    "### Return\n",
    "\n",
    "* Las funciones pueden tener argumentos y parametros y devolver (return) valores \n",
    "\n",
    "Ejemplo:\n"
   ]
  },
  {
   "cell_type": "code",
   "execution_count": 38,
   "metadata": {},
   "outputs": [],
   "source": [
    "def resta(num1,num2):\n",
    "    num1 - num2\n",
    "resta(2,-1)"
   ]
  },
  {
   "cell_type": "code",
   "execution_count": 40,
   "metadata": {},
   "outputs": [
    {
     "name": "stdout",
     "output_type": "stream",
     "text": [
      "3\n"
     ]
    }
   ],
   "source": [
    "def resta(num1,num2):\n",
    "    num1 - num2\n",
    "print(resta(2,-1))"
   ]
  },
  {
   "cell_type": "code",
   "execution_count": 26,
   "metadata": {},
   "outputs": [],
   "source": [
    "# Funcion de suma de dos numeros y describir lo que hace la funcion (practica comun en programacion)\n",
    "def suma_dos_numeros(num1, num2):\n",
    "    \"\"\"\n",
    "    Function name: suma_dos_numeros\n",
    "    Parametros(s): num1, num2\n",
    "    Descripcion: Esta funcion suma dos numeros\n",
    "    Devuelve: Esta funcion devuelve la suma de dos numeros\n",
    "    \"\"\"\n",
    "    # suma dos parametros y guarda en una variable nueva\n",
    "    suma_de_dos_numeros = num1 + num2\n",
    "    # devuelve dicha variable\n",
    "    return suma_de_dos_numeros"
   ]
  },
  {
   "cell_type": "code",
   "execution_count": 27,
   "metadata": {},
   "outputs": [
    {
     "data": {
      "text/plain": [
       "5"
      ]
     },
     "execution_count": 27,
     "metadata": {},
     "output_type": "execute_result"
    }
   ],
   "source": [
    "# Correr la funcion con dos argumentos\n",
    "suma_dos_numeros(1, 4)"
   ]
  },
  {
   "cell_type": "code",
   "execution_count": 28,
   "metadata": {},
   "outputs": [],
   "source": [
    "# Guardar valores en una funcion\n",
    "result = suma_dos_numeros(1, 4)"
   ]
  },
  {
   "cell_type": "code",
   "execution_count": 29,
   "metadata": {},
   "outputs": [
    {
     "name": "stdout",
     "output_type": "stream",
     "text": [
      "5\n"
     ]
    }
   ],
   "source": [
    "# Imprimir variable\n",
    "print(result)"
   ]
  },
  {
   "cell_type": "markdown",
   "metadata": {},
   "source": [
    "### Notas importantes obre funciones\n",
    "\n",
    "* Cuando llamas una funcion, DEBES pasar los valores para cada parametro en el orden EXACTO como aparece en los parentesis.\n",
    "* Solo puedes pasar la variable especificada en la funcion.\n",
    "* El orden importa.\n",
    "\n",
    "EJEMPLO"
   ]
  },
  {
   "cell_type": "code",
   "execution_count": 30,
   "metadata": {},
   "outputs": [
    {
     "ename": "TypeError",
     "evalue": "suma_dos_numeros() takes 2 positional arguments but 3 were given",
     "output_type": "error",
     "traceback": [
      "\u001b[1;31m---------------------------------------------------------------------------\u001b[0m",
      "\u001b[1;31mTypeError\u001b[0m                                 Traceback (most recent call last)",
      "Cell \u001b[1;32mIn[30], line 1\u001b[0m\n\u001b[1;32m----> 1\u001b[0m \u001b[43msuma_dos_numeros\u001b[49m\u001b[43m(\u001b[49m\u001b[38;5;241;43m1\u001b[39;49m\u001b[43m,\u001b[49m\u001b[43m \u001b[49m\u001b[38;5;241;43m3\u001b[39;49m\u001b[43m,\u001b[49m\u001b[43m \u001b[49m\u001b[38;5;241;43m5\u001b[39;49m\u001b[43m)\u001b[49m\n",
      "\u001b[1;31mTypeError\u001b[0m: suma_dos_numeros() takes 2 positional arguments but 3 were given"
     ]
    }
   ],
   "source": [
    "suma_dos_numeros(1, 3, 5)"
   ]
  },
  {
   "cell_type": "code",
   "execution_count": 31,
   "metadata": {},
   "outputs": [
    {
     "ename": "TypeError",
     "evalue": "can only concatenate str (not \"int\") to str",
     "output_type": "error",
     "traceback": [
      "\u001b[1;31m---------------------------------------------------------------------------\u001b[0m",
      "\u001b[1;31mTypeError\u001b[0m                                 Traceback (most recent call last)",
      "Cell \u001b[1;32mIn[31], line 1\u001b[0m\n\u001b[1;32m----> 1\u001b[0m \u001b[43msuma_dos_numeros\u001b[49m\u001b[43m(\u001b[49m\u001b[38;5;124;43m\"\u001b[39;49m\u001b[38;5;124;43mhello\u001b[39;49m\u001b[38;5;124;43m\"\u001b[39;49m\u001b[43m,\u001b[49m\u001b[43m \u001b[49m\u001b[38;5;241;43m5\u001b[39;49m\u001b[43m)\u001b[49m\n",
      "Cell \u001b[1;32mIn[26], line 10\u001b[0m, in \u001b[0;36msuma_dos_numeros\u001b[1;34m(num1, num2)\u001b[0m\n\u001b[0;32m      3\u001b[0m \u001b[38;5;250m\u001b[39m\u001b[38;5;124;03m\"\"\"\u001b[39;00m\n\u001b[0;32m      4\u001b[0m \u001b[38;5;124;03mFunction name: suma_dos_numeros\u001b[39;00m\n\u001b[0;32m      5\u001b[0m \u001b[38;5;124;03mParametros(s): num1, num2\u001b[39;00m\n\u001b[0;32m      6\u001b[0m \u001b[38;5;124;03mDescripcion: Esta funcion suma dos numeros\u001b[39;00m\n\u001b[0;32m      7\u001b[0m \u001b[38;5;124;03mDevuelve: Esta funcion devuelve la suma de dos numeros\u001b[39;00m\n\u001b[0;32m      8\u001b[0m \u001b[38;5;124;03m\"\"\"\u001b[39;00m\n\u001b[0;32m      9\u001b[0m \u001b[38;5;66;03m# suma dos parametros y guarda en una variable nueva\u001b[39;00m\n\u001b[1;32m---> 10\u001b[0m suma_de_dos_numeros \u001b[38;5;241m=\u001b[39m \u001b[43mnum1\u001b[49m\u001b[43m \u001b[49m\u001b[38;5;241;43m+\u001b[39;49m\u001b[43m \u001b[49m\u001b[43mnum2\u001b[49m\n\u001b[0;32m     11\u001b[0m \u001b[38;5;66;03m# devuelve dicha variable\u001b[39;00m\n\u001b[0;32m     12\u001b[0m \u001b[38;5;28;01mreturn\u001b[39;00m suma_de_dos_numeros\n",
      "\u001b[1;31mTypeError\u001b[0m: can only concatenate str (not \"int\") to str"
     ]
    }
   ],
   "source": [
    "suma_dos_numeros(\"hello\", 5)"
   ]
  },
  {
   "cell_type": "markdown",
   "metadata": {},
   "source": [
    "## Named parameters\n",
    "* Sometimes, we want parameters to have default values (values that will be automatically assigned to a parameter)\n",
    "* Sometimes, we also want to pick and choose which parameters to pass into a function (have optional parameters)\n",
    "* To address these two use cases, we can create functions with **named** parameters\n",
    "\n",
    "### Syntax for functions with named parameters:\n",
    "\n",
    "```\n",
    "def function_name( parameter_1_name = parameter_1_value, parameter_2_name = parameter_2_value ):\n",
    "\n",
    "    function code\n",
    "    more code\n",
    "    even more code\n",
    "\n",
    "    return [expression]\n",
    "```"
   ]
  },
  {
   "cell_type": "code",
   "execution_count": 44,
   "metadata": {},
   "outputs": [],
   "source": [
    "# Note that \"operation\" is a named parameter.  \n",
    "# It has a default value of \"add\" and can be skipped alltogether\n",
    "def do_math_with_two_numbers(num1, num2, operation = \"add\"):\n",
    "    \"\"\"Perform specified operation on parameters.\"\"\"\n",
    "    if operation == \"add\":\n",
    "        result = num1 + num2\n",
    "    elif operation == \"subtract\":\n",
    "        result = num1 - num2\n",
    "    elif operation == \"multiply\":\n",
    "        result = num1 * num2\n",
    "    elif operation == \"divide\":\n",
    "        result = num1 / num2\n",
    "    return result"
   ]
  },
  {
   "cell_type": "code",
   "execution_count": 45,
   "metadata": {},
   "outputs": [
    {
     "name": "stdout",
     "output_type": "stream",
     "text": [
      "15\n",
      "-5\n"
     ]
    }
   ],
   "source": [
    "# Call the function without the named parameter\n",
    "test = do_math_with_two_numbers(5, 10)\n",
    "print(test)\n",
    "\n",
    "# Call the function with the named parameter\n",
    "test = do_math_with_two_numbers(5, 10, operation=\"subtract\")\n",
    "print(test)\n",
    "\n"
   ]
  },
  {
   "cell_type": "markdown",
   "metadata": {},
   "source": [
    "## Ejercicios\n",
    "\n",
    "### Ejercicio 1\n",
    "Crear una funcion que tenga como parametro un nombre e imprima con un argumento tu nombre 'HINT el nombre es un string variable'\n",
    "\n",
    "### Ejercicio 2\n",
    "Crea una funcion que calcule el area de un triangulo asignando dos parametros (base, altura), despues asigna una variable area e imprimela. \n",
    "\n",
    "### Ejercicio 3\n",
    "\n",
    "Escribe una funcion, que toma dos parametros (hora y salario), calcula el pago semanal dependiendo las horas de trabajo a la semana y el salario por hora y regrese la paga total de la semana. \n",
    "\n",
    "\n",
    "\n",
    "Recuerda el syntax para escribir una funcion:\n",
    "```\n",
    "def nombre_funcion(parametro_1, parametro_2):\n",
    "\"\"\"LO QUE HACE LA FUNCION (OPCIONAL)\"\"\"\n",
    "\n",
    "    CODIGO\n",
    "\n",
    "    return [expresion]\n",
    "```\n",
    "\n"
   ]
  },
  {
   "cell_type": "code",
   "execution_count": null,
   "metadata": {},
   "outputs": [],
   "source": []
  },
  {
   "cell_type": "code",
   "execution_count": null,
   "metadata": {},
   "outputs": [],
   "source": []
  },
  {
   "cell_type": "code",
   "execution_count": null,
   "metadata": {},
   "outputs": [],
   "source": []
  },
  {
   "cell_type": "code",
   "execution_count": null,
   "metadata": {},
   "outputs": [],
   "source": []
  },
  {
   "cell_type": "code",
   "execution_count": null,
   "metadata": {},
   "outputs": [],
   "source": []
  },
  {
   "cell_type": "code",
   "execution_count": 32,
   "metadata": {},
   "outputs": [
    {
     "name": "stdout",
     "output_type": "stream",
     "text": [
      "Holaaaaa Carlos\n"
     ]
    }
   ],
   "source": [
    "# Ejercicio 1 Crear funcion\n",
    "def nombre_funcion(nombre):\n",
    "    print(f'Holaaaaa {nombre}')\n",
    "   \n",
    "# Asignar Argumento\n",
    "nombre_funcion('Carlos')\n"
   ]
  },
  {
   "cell_type": "code",
   "execution_count": 34,
   "metadata": {},
   "outputs": [
    {
     "name": "stdout",
     "output_type": "stream",
     "text": [
      "15\n"
     ]
    }
   ],
   "source": [
    "# Ejercicio 2 Crear funcion\n",
    "def area_rectangulo(largo, ancho):\n",
    "    area = largo * ancho\n",
    "    return(area)\n",
    "# Asignar argumentos\n",
    "print(area_rectangulo(5,3))\n"
   ]
  },
  {
   "cell_type": "code",
   "execution_count": 43,
   "metadata": {},
   "outputs": [
    {
     "name": "stdout",
     "output_type": "stream",
     "text": [
      "2000\n"
     ]
    }
   ],
   "source": [
    "# Ejercicio 3 Crear funcion\n",
    "def pago_semanal(hora, salario):\n",
    "\n",
    "    pago = hora * salario\n",
    "    return(pago)\n",
    "\n",
    "# Llamar funcion y asignar argumentos\n",
    "pay = pago_semanal(40, 50)\n",
    "print(pay) # should be 400"
   ]
  },
  {
   "cell_type": "markdown",
   "metadata": {},
   "source": [
    "# TAREA FUNCIONES\n",
    "\n",
    "## Ejercicio 1\n",
    "Realiza una funcion que calcule el area del poligono n.\n",
    "![Imagen](poly.jpg)\n",
    "\n",
    "## Ejercicio 2\n",
    "Realiza una funcion que dado un numero entero, se convierta a numero romano."
   ]
  },
  {
   "cell_type": "markdown",
   "metadata": {},
   "source": [
    "---"
   ]
  }
 ],
 "metadata": {
  "kernelspec": {
   "display_name": "Python 3 (ipykernel)",
   "language": "python",
   "name": "python3"
  },
  "language_info": {
   "codemirror_mode": {
    "name": "ipython",
    "version": 3
   },
   "file_extension": ".py",
   "mimetype": "text/x-python",
   "name": "python",
   "nbconvert_exporter": "python",
   "pygments_lexer": "ipython3",
   "version": "3.10.9"
  }
 },
 "nbformat": 4,
 "nbformat_minor": 2
}
