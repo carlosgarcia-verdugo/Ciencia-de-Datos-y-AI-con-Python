{
 "cells": [
  {
   "cell_type": "markdown",
   "metadata": {},
   "source": [
    "## Funciones\n",
    "\n",
    "* Una funcion es un bloque de codigo organizado y reuzable que es usado para realizar una accion. \n",
    "* Funciones provide better modularity for your application by allowing you to re-used blocks of code without re-writing it every time\n",
    "    * or Copy Paste\n",
    "* Functions have a name followed by parentheses.\n",
    "    * `<function name>(<argument 1>, <argument 2>, ...)`\n",
    "* You *call* functions and you can pass *arguments* to a function.\n",
    "* You have already seen a couple functions, what are they?\n",
    "\n"
   ]
  },
  {
   "cell_type": "code",
   "execution_count": null,
   "metadata": {},
   "outputs": [],
   "source": [
    "# what is the python data type of 5\n",
    "type(5)"
   ]
  },
  {
   "cell_type": "code",
   "execution_count": null,
   "metadata": {},
   "outputs": [],
   "source": [
    "# print is a function\n",
    "print(\"hi\", 3, 5.38)"
   ]
  },
  {
   "cell_type": "code",
   "execution_count": null,
   "metadata": {},
   "outputs": [],
   "source": [
    "# this function tells you the length of things\n",
    "# save the results in a variable\n",
    "string_length = len(\"hello world\")\n",
    "string_length"
   ]
  },
  {
   "cell_type": "code",
   "execution_count": null,
   "metadata": {},
   "outputs": [],
   "source": [
    "# import the random and randint functions from the random module\n",
    "from random import random, randint\n",
    "\n",
    "# generate a random number\n",
    "x = random()\n",
    "print(x)"
   ]
  },
  {
   "cell_type": "code",
   "execution_count": null,
   "metadata": {},
   "outputs": [],
   "source": [
    "# use the randint function to generate random integers in a range\n",
    "randint(-5, 10)"
   ]
  },
  {
   "cell_type": "markdown",
   "metadata": {},
   "source": [
    "## Looking at the documentation\n",
    "\n",
    "* Jupyter has some nice functionality for quickly seeing the documentation for a function\n",
    "* Move your cursor into the function name or inside the parameters and hit `shift-tab`\n",
    "* You should see a popup with the function *signature* and *documentation*"
   ]
  },
  {
   "cell_type": "code",
   "execution_count": null,
   "metadata": {},
   "outputs": [],
   "source": [
    "print(\"Type shift-tab\", \"in here somewhere\")"
   ]
  },
  {
   "cell_type": "markdown",
   "metadata": {},
   "source": [
    "### Creating your own functions\n",
    "\n",
    "* We have been using existing functions `type()`, `print()`, `random.random()` \n",
    "* Sometimes the function we need doesn't exist\n",
    "* Function blocks begin with the keyword `def` followed by the function name and parentheses _(  )_.\n",
    "* Any input parameters should be placed within these parentheses. You can also define parameters inside these parentheses.\n",
    "    * When you define a function the inputs are *parameters*\n",
    "    * When you call a function the inputs are *arguments*\n",
    "* The code block within every function starts on a new line after a colon (:) and is indented.\n",
    "* The statement `return <expression>` exits a function, optionally passing back an expression to the caller. A return statement with no arguments is the same as `return None`.\n",
    "* Python lets you create your own functions using the following syntax\n",
    "\n",
    "```\n",
    "def function_name(parameter_1, parameter_2):\n",
    "\"\"\"Documentation string - notice the triple quotes. \n",
    "That means the string can have multiple lines.\"\"\"\n",
    "\n",
    "    function code\n",
    "    more code\n",
    "    even more code\n",
    "\n",
    "    return <expression>\n",
    "```\n",
    "\n",
    "* To *call* a function you write the name followed by parentheses.\n",
    "* If the function accepts arguments you put them inside the parentheses\n",
    "```\n",
    "function_name(some_value, another_value)\n",
    "```\n"
   ]
  },
  {
   "cell_type": "code",
   "execution_count": null,
   "metadata": {},
   "outputs": [],
   "source": [
    "# a basic function that takes no parameters and \n",
    "def print_lyrics():\n",
    "    \"\"\"Print a song\"\"\"\n",
    "    \n",
    "    print(\"I'm a lumberjack, and I'm okay.\")\n",
    "    print('I sleep all night and I work all day.')\n",
    "    \n",
    "    return None # optional"
   ]
  },
  {
   "cell_type": "code",
   "execution_count": null,
   "metadata": {},
   "outputs": [],
   "source": [
    "# Calling a function\n",
    "print_lyrics()\n",
    "print_lyrics()"
   ]
  },
  {
   "cell_type": "code",
   "execution_count": 5,
   "metadata": {},
   "outputs": [
    {
     "name": "stdout",
     "output_type": "stream",
     "text": [
      "   *   \n",
      "  ***  \n",
      " ***** \n",
      "*******\n",
      "   *   \n",
      "   *   \n"
     ]
    }
   ],
   "source": [
    "# Hacer un pino de navidad con iteraciones\n",
    "picture = [[0,0,0,1,0,0,0],[0,0,1,1,1,0,0],[0,1,1,1,1,1,0],[1,1,1,1,1,1,1],[0,0,0,1,0,0,0],[0,0,0,1,0,0,0]]\n",
    "for image in picture:\n",
    "    for pixel in image:\n",
    "        if (pixel):\n",
    "            print('*', end = \"\")\n",
    "        else:\n",
    "            print(' ', end =\"\")\n",
    "    print('')"
   ]
  },
  {
   "cell_type": "code",
   "execution_count": 7,
   "metadata": {},
   "outputs": [
    {
     "name": "stdout",
     "output_type": "stream",
     "text": [
      "   *   \n",
      "  ***  \n",
      " ***** \n",
      "*******\n",
      "   *   \n",
      "   *   \n",
      "   *   \n",
      "  ***  \n",
      " ***** \n",
      "*******\n",
      "   *   \n",
      "   *   \n",
      "   *   \n",
      "  ***  \n",
      " ***** \n",
      "*******\n",
      "   *   \n",
      "   *   \n"
     ]
    }
   ],
   "source": [
    "# Si quiero imprimir el pino de navidad 3 veces\n",
    "for image in picture:\n",
    "    for pixel in image:\n",
    "        if (pixel):\n",
    "            print('*', end = \"\")\n",
    "        else:\n",
    "            print(' ', end =\"\")\n",
    "    print('')\n",
    "for image in picture:\n",
    "    for pixel in image:\n",
    "        if (pixel):\n",
    "            print('*', end = \"\")\n",
    "        else:\n",
    "            print(' ', end =\"\")\n",
    "    print('')\n",
    "for image in picture:\n",
    "    for pixel in image:\n",
    "        if (pixel):\n",
    "            print('*', end = \"\")\n",
    "        else:\n",
    "            print(' ', end =\"\")\n",
    "    print('')"
   ]
  },
  {
   "cell_type": "code",
   "execution_count": 9,
   "metadata": {},
   "outputs": [
    {
     "name": "stdout",
     "output_type": "stream",
     "text": [
      "   *   \n",
      "  ***  \n",
      " ***** \n",
      "*******\n",
      "   *   \n",
      "   *   \n",
      "   *   \n",
      "  ***  \n",
      " ***** \n",
      "*******\n",
      "   *   \n",
      "   *   \n",
      "   *   \n",
      "  ***  \n",
      " ***** \n",
      "*******\n",
      "   *   \n",
      "   *   \n"
     ]
    }
   ],
   "source": [
    "# Mejor con una funcion\n",
    "def pino_navidad():\n",
    "    for image in picture:\n",
    "        for pixel in image:\n",
    "            if (pixel):\n",
    "                print('*', end = \"\")\n",
    "            else:\n",
    "                print(' ', end =\"\")\n",
    "        print('')\n",
    "pino_navidad()\n",
    "pino_navidad()\n",
    "pino_navidad()"
   ]
  },
  {
   "cell_type": "markdown",
   "metadata": {},
   "source": [
    "### Return\n",
    "\n",
    "* Las funciones pueden tener argumentos y parametros y devolver (return) valores \n",
    "\n",
    "Ejemplo:\n"
   ]
  },
  {
   "cell_type": "code",
   "execution_count": 38,
   "metadata": {},
   "outputs": [],
   "source": [
    "def resta(num1,num2):\n",
    "    num1 - num2\n",
    "resta(2,-1)"
   ]
  },
  {
   "cell_type": "code",
   "execution_count": 40,
   "metadata": {},
   "outputs": [
    {
     "name": "stdout",
     "output_type": "stream",
     "text": [
      "3\n"
     ]
    }
   ],
   "source": [
    "def resta(num1,num2):\n",
    "    num1 - num2\n",
    "print(resta(2,-1))"
   ]
  },
  {
   "cell_type": "code",
   "execution_count": 32,
   "metadata": {},
   "outputs": [],
   "source": [
    "# Funcion de suma de dos numeros y describir lo que hace la funcion (practica comun en programacion)\n",
    "def suma_dos_numeros(num1, num2):\n",
    "    \"\"\"\n",
    "    Function name: suma_dos_numeros\n",
    "    Parametros(s): num1, num2\n",
    "    Descripcion: Esta funcion suma dos numeros\n",
    "    Devuelve: Esta funcion devuelve la suma de dos numeros\n",
    "    \"\"\"\n",
    "    # suma dos parametros y guarda en una variable nueva\n",
    "    suma_de_dos_numeros = num1 + num2\n",
    "    # devuelve dicha variable\n",
    "    return suma_de_dos_numeros"
   ]
  },
  {
   "cell_type": "code",
   "execution_count": 33,
   "metadata": {},
   "outputs": [
    {
     "data": {
      "text/plain": [
       "5"
      ]
     },
     "execution_count": 33,
     "metadata": {},
     "output_type": "execute_result"
    }
   ],
   "source": [
    "# Correr la funcion con dos argumentos\n",
    "add_two_numbers(1, 4)"
   ]
  },
  {
   "cell_type": "code",
   "execution_count": 34,
   "metadata": {},
   "outputs": [],
   "source": [
    "# Guardar valores en una funcion\n",
    "result = add_two_numbers(1, 4)"
   ]
  },
  {
   "cell_type": "code",
   "execution_count": 11,
   "metadata": {},
   "outputs": [
    {
     "ename": "NameError",
     "evalue": "name 'result' is not defined",
     "output_type": "error",
     "traceback": [
      "\u001b[1;31m---------------------------------------------------------------------------\u001b[0m",
      "\u001b[1;31mNameError\u001b[0m                                 Traceback (most recent call last)",
      "Cell \u001b[1;32mIn[11], line 2\u001b[0m\n\u001b[0;32m      1\u001b[0m \u001b[38;5;66;03m# Imprimir variable\u001b[39;00m\n\u001b[1;32m----> 2\u001b[0m \u001b[38;5;28mprint\u001b[39m(\u001b[43mresult\u001b[49m)\n",
      "\u001b[1;31mNameError\u001b[0m: name 'result' is not defined"
     ]
    }
   ],
   "source": [
    "# Imprimir variable\n",
    "print(result)"
   ]
  },
  {
   "cell_type": "markdown",
   "metadata": {},
   "source": [
    "## Ejercicio 1\n",
    "    # Crear una funcion que tenga como parametro un nombre e imprima con un argumento tu nombre 'HINT el nombre es un string variable'"
   ]
  },
  {
   "cell_type": "markdown",
   "metadata": {},
   "source": [
    "## Ejercicio 2\n",
    "    # Crea una funcion que calcule el area de un triangulo asignando dos parametros, despues asigna una variable area e imprimela"
   ]
  },
  {
   "cell_type": "code",
   "execution_count": 26,
   "metadata": {},
   "outputs": [],
   "source": [
    "# Ejercicio 1 Crear funcion\n",
    "def nombre_funcion(nombre):\n",
    "    print(f'Holaaaaa {nombre}')\n",
    "   \n"
   ]
  },
  {
   "cell_type": "code",
   "execution_count": 28,
   "metadata": {},
   "outputs": [
    {
     "name": "stdout",
     "output_type": "stream",
     "text": [
      "Holaaaaa Carlos\n"
     ]
    }
   ],
   "source": [
    "# Asignar Argumento\n",
    "nombre_funcion('Carlos')\n"
   ]
  },
  {
   "cell_type": "code",
   "execution_count": 30,
   "metadata": {},
   "outputs": [],
   "source": [
    "# Ejercicio 2 Crear funcion\n",
    "def area_rectangulo(largo, ancho):\n",
    "    return largo * ancho"
   ]
  },
  {
   "cell_type": "code",
   "execution_count": 31,
   "metadata": {},
   "outputs": [
    {
     "name": "stdout",
     "output_type": "stream",
     "text": [
      "15\n"
     ]
    }
   ],
   "source": [
    "# Asignar variable area y argumentos\n",
    "area = area_rectangulo(5,3)\n",
    "print(area)"
   ]
  },
  {
   "cell_type": "markdown",
   "metadata": {},
   "source": [
    "* Why are we seeing the number 5 twice?"
   ]
  },
  {
   "cell_type": "markdown",
   "metadata": {},
   "source": [
    "### Important notes about functions\n",
    "\n",
    "* A function name along with its parameters make up the functions **signature**\n",
    "* When calling a function, you must pass values for each parameter in EXACTLY the same order as it appears in the parameter list\n",
    "* You can *only* pass the number of variables specified in the function definition\n",
    "* Order matters!"
   ]
  },
  {
   "cell_type": "code",
   "execution_count": null,
   "metadata": {},
   "outputs": [],
   "source": [
    "add_two_numbers(1, 3, 5)"
   ]
  },
  {
   "cell_type": "markdown",
   "metadata": {},
   "source": [
    "* Functions don't automatically check the type of the variable\n",
    "* So type checking and transformation is important in python"
   ]
  },
  {
   "cell_type": "code",
   "execution_count": null,
   "metadata": {},
   "outputs": [],
   "source": [
    "add_two_numbers(\"hello\", 5)"
   ]
  },
  {
   "cell_type": "markdown",
   "metadata": {},
   "source": [
    "## Named parameters\n",
    "* Sometimes, we want parameters to have default values (values that will be automatically assigned to a parameter)\n",
    "* Sometimes, we also want to pick and choose which parameters to pass into a function (have optional parameters)\n",
    "* To address these two use cases, we can create functions with **named** parameters\n",
    "\n",
    "### Syntax for functions with named parameters:\n",
    "\n",
    "```\n",
    "def function_name( parameter_1_name = parameter_1_value, parameter_2_name = parameter_2_value ):\n",
    "\n",
    "    function code\n",
    "    more code\n",
    "    even more code\n",
    "\n",
    "    return [expression]\n",
    "```"
   ]
  },
  {
   "cell_type": "code",
   "execution_count": null,
   "metadata": {},
   "outputs": [],
   "source": [
    "# Note that \"operation\" is a named parameter.  \n",
    "# It has a default value of \"add\" and can be skipped alltogether\n",
    "def do_math_with_two_numbers(num1, num2, operation = \"add\"):\n",
    "    \"\"\"Perform specified operation on parameters.\"\"\"\n",
    "    if operation == \"add\":\n",
    "        result = num1 + num2\n",
    "    elif operation == \"subtract\":\n",
    "        result = num1 - num2\n",
    "    elif operation == \"multiply\":\n",
    "        result = num1 * num2\n",
    "    elif operation == \"divide\":\n",
    "        result = num1 / num2\n",
    "    return result"
   ]
  },
  {
   "cell_type": "code",
   "execution_count": null,
   "metadata": {},
   "outputs": [],
   "source": [
    "# Call the function without the named parameter\n",
    "test = do_math_with_two_numbers(5, 10)\n",
    "print(test)\n",
    "\n",
    "# Call the function with the named parameter\n",
    "test = do_math_with_two_numbers(5, 10, operation=\"subtract\")\n",
    "print(test)\n",
    "\n"
   ]
  },
  {
   "cell_type": "code",
   "execution_count": null,
   "metadata": {},
   "outputs": [],
   "source": []
  },
  {
   "cell_type": "code",
   "execution_count": null,
   "metadata": {},
   "outputs": [],
   "source": []
  },
  {
   "cell_type": "code",
   "execution_count": null,
   "metadata": {},
   "outputs": [],
   "source": []
  },
  {
   "cell_type": "code",
   "execution_count": null,
   "metadata": {},
   "outputs": [],
   "source": []
  },
  {
   "cell_type": "code",
   "execution_count": null,
   "metadata": {},
   "outputs": [],
   "source": []
  },
  {
   "cell_type": "code",
   "execution_count": null,
   "metadata": {},
   "outputs": [],
   "source": []
  },
  {
   "cell_type": "raw",
   "metadata": {},
   "source": []
  },
  {
   "cell_type": "raw",
   "metadata": {},
   "source": []
  },
  {
   "cell_type": "markdown",
   "metadata": {},
   "source": [
    "## Exercise\n",
    "\n",
    "Write a function, computepay, that takes two parameters (hours and rate), computes someone's weekly pay, and returns that number. Note, because we are not robber barons looking to exploit the labor of the proletariat the function should compute time-and-a-half for overtime above 40. \n",
    "\n",
    "\n",
    "\n",
    "Remember the syntax for writing function is:\n",
    "```\n",
    "def function_name(parameter_1, parameter_2):\n",
    "\"\"\"Documentation string\"\"\"\n",
    "\n",
    "    function code\n",
    "    more code\n",
    "    even more code\n",
    "\n",
    "    return [expression]\n",
    "```\n",
    "\n",
    "### Computational Thinking\n",
    "\n",
    "1. Define the function with the proper signature\n",
    "2. Check to see if the number of hours is over 40\n",
    "3. Compute the weekly pay and *return* that value"
   ]
  },
  {
   "cell_type": "code",
   "execution_count": null,
   "metadata": {},
   "outputs": [],
   "source": [
    "### Write your function code here, pseudo code here for your\n",
    "\n",
    "# Define the function with two paramters\n",
    "\n",
    "# Calculate pay, including overtime\n",
    "\n",
    "# return the weekly pay\n"
   ]
  },
  {
   "cell_type": "markdown",
   "metadata": {},
   "source": [
    "* Now lets test your function"
   ]
  },
  {
   "cell_type": "code",
   "execution_count": null,
   "metadata": {},
   "outputs": [],
   "source": [
    "# Test the computepay function\n",
    "pay = computepay(40, 10)\n",
    "print(pay) # should be 400"
   ]
  },
  {
   "cell_type": "code",
   "execution_count": null,
   "metadata": {},
   "outputs": [],
   "source": [
    "# Test the computepay function\n",
    "pay = computepay(60, 15)\n",
    "print(pay) # should be 1050.0"
   ]
  },
  {
   "cell_type": "code",
   "execution_count": null,
   "metadata": {},
   "outputs": [],
   "source": []
  },
  {
   "cell_type": "code",
   "execution_count": null,
   "metadata": {},
   "outputs": [],
   "source": []
  },
  {
   "cell_type": "code",
   "execution_count": null,
   "metadata": {},
   "outputs": [],
   "source": []
  },
  {
   "cell_type": "code",
   "execution_count": null,
   "metadata": {},
   "outputs": [],
   "source": []
  },
  {
   "cell_type": "code",
   "execution_count": null,
   "metadata": {},
   "outputs": [],
   "source": []
  },
  {
   "cell_type": "code",
   "execution_count": null,
   "metadata": {},
   "outputs": [],
   "source": []
  },
  {
   "cell_type": "code",
   "execution_count": null,
   "metadata": {},
   "outputs": [],
   "source": []
  },
  {
   "cell_type": "code",
   "execution_count": null,
   "metadata": {},
   "outputs": [],
   "source": []
  },
  {
   "cell_type": "code",
   "execution_count": null,
   "metadata": {},
   "outputs": [],
   "source": []
  },
  {
   "cell_type": "markdown",
   "metadata": {},
   "source": [
    "## Exercise Solution"
   ]
  },
  {
   "cell_type": "code",
   "execution_count": null,
   "metadata": {},
   "outputs": [],
   "source": [
    "def computepay(hours, rate):\n",
    "    if hours > 40:\n",
    "        overtime = hours - 40\n",
    "        pay = (40 * rate) + (overtime * (rate * 1.5))\n",
    "    else:\n",
    "        pay = hours * rate\n",
    "    return pay"
   ]
  },
  {
   "cell_type": "markdown",
   "metadata": {},
   "source": [
    "---"
   ]
  }
 ],
 "metadata": {
  "kernelspec": {
   "display_name": "Python 3 (ipykernel)",
   "language": "python",
   "name": "python3"
  },
  "language_info": {
   "codemirror_mode": {
    "name": "ipython",
    "version": 3
   },
   "file_extension": ".py",
   "mimetype": "text/x-python",
   "name": "python",
   "nbconvert_exporter": "python",
   "pygments_lexer": "ipython3",
   "version": "3.10.9"
  }
 },
 "nbformat": 4,
 "nbformat_minor": 2
}
