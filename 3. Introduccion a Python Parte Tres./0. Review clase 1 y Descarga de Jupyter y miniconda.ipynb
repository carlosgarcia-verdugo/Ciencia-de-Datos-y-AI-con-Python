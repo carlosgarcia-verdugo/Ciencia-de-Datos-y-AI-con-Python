{
 "cells": [
  {
   "cell_type": "markdown",
   "id": "755d4b05",
   "metadata": {},
   "source": [
    "# Ciencia de Datos y Machine Learning con Python Clase 3\n",
    "\n",
    "\n",
    "* Bienvenidos a la parte 3 de introduccion a Python\n",
    "* Esta clase cubre:\n",
    "    * Funcions - Hacer nuestro propio programa re-usable\n",
    "    * Abrir y manipular archivos en Jupyter",
    " "
   ]
  },
  {
   "cell_type": "markdown",
   "id": "dc796ab8",
   "metadata": {},
   "source": [
    "## Review de la clase pasada\n",
    "\n",
    "### Tipos de datos en Python\n",
    "\n",
    "* entero (int) - 5\n",
    "* string (str) - \"hello world\"\n",
    "* float (flt) - 5.3\n",
    "\n",
    "### Variables \n",
    "\n",
    "* Usa `=` para dar valor \n",
    "\n",
    "```\n",
    "a = 17 # asignar el valor de 17 a la variable a\n",
    "\n",
    "# Nombres descriptivos es una practica comunmente utilizada en programacion \n",
    "guionbajo_por_espacio = \"buena, variable\"\n",
    "```\n",
    "\n",
    "### Operators\n",
    "\n",
    "* Python puede ser una calculadora\n",
    "\n",
    "```\n",
    "5 + 3 # 8\n",
    "\n",
    "# Funciona con variables\n",
    "a = 5\n",
    "b = ((3 + a) - 235345)\n",
    "\n",
    "a * b // 5 # -235337\n",
    "```\n",
    "\n",
    "* Tambien funciona para concatinar strings\n",
    "\n",
    "```\n",
    "a = 'Data Science '\n",
    "b = 'and Machine Learning'\n",
    "\n",
    "a + b # 'Data Science and Machine Learning'\n",
    "```\n",
    "\n",
    "### Pedir al usuario un input\n",
    "\n",
    "* Si quieres que el usuario te de un input\n",
    "\n",
    "```\n",
    "nombre = input(\"Como te llamas?\")\n",
    "print(\"Hello\", nombre\") # Tambien puedes usar print(f'Hello {nombre}') o print(\"hello\" + nombre)\n",
    "```\n",
    "\n",
    "### Cambiar Tipo de Dato\n",
    "\n",
    "```\n",
    "a = \"5\"\n",
    "type(a) # str\n",
    "b = int(a)\n",
    "type(b) # int\n",
    "```\n",
    "\n",
    "### Condicionales (control flow)\n",
    "\n",
    "* Para manejar el *flujo o flow* usamos if para cumplir una condicion o no y seguir con el programa\n",
    "\n",
    "```\n",
    "if 5 == 5:\n",
    "    print(\"yup, 5 es 5\")\n",
    "else:\n",
    "    print(\"El mundo esta en fuego!\")\n",
    "```"
   ]
  },
  {
   "cell_type": "markdown",
   "id": "bc1bcfe2",
   "metadata": {},
   "source": [
    "# Instalar Miniconda\n",
    "\n",
    "* Ir a la pagina web de miniconda y descargar la ultima version para el sistema operativo (e.g., macOS, Linux, Windows)"
   ]
  },
  {
   "cell_type": "markdown",
   "id": "01dbf1b7",
   "metadata": {},
   "source": [
    "# Enviroment Setup\n",
    "\n",
    "* Ir a search y buscar la terminal de anaconda llamada \"Anaconda Prompt\"\n",
    "* Crear una carpeta para la clase y dejarla lista\n",
    "    1. Con el comando dir puedes ver tus carpetas.\n",
    "    2. Con el comando cd puedes cambiar carpeta.\n",
    "    3. Con el comando mkdir [nombre de carpeta] creas una carpeta donde trabajaras los proyectos.\n",
    "    4. Ir a la carpeta creada cd [Nombre Carpeta].\n",
    "    5. Instalar Jupyter Notebook con el siguiente comando: conda install jupyter.\n",
    "    6. Instalar los paquetes requeridos para trabajar con dependiendo lo que necesites escribiendo el siguiente comando: conda create --prefix ./env pandas numpy matplotlib scikit-learn. \n",
    "    7. Activar env con el siguiente comando: conda activate [Direccion donde esta la carpeta].\n",
    "    8. Escribir en la terminal de anaconda jupyter notebook."
   ]
  },
  {
   "cell_type": "markdown",
   "id": "6d5d2ee4",
   "metadata": {},
   "source": [
    "# Compartir tu Conda Environment\n",
    "\n",
    "Para compartir tu environment o pasarla a otra pc se puede hacer de las siguientes maneras:\n",
    "\n",
    "1. Comparte todo tu projecto (inclutendo la carpeta del environment que contiene todos los paquetes ./env).\n",
    "2. Comparte una carpeta `.yml` de tu Conda environment.\n",
    "\n",
    "Por ejemplo, para exportar la carpeta a archivo `.yml` sobre la direccion `/Users/Carlos/Desktop/proyecto1/env` como un archivo llamado environment.yml escribe lo siguiente:\n",
    "\n",
    "`conda env export --prefix /Users/Carlos/Desktop/proyecto1/env > environment.yml`\n",
    "\n",
    "y para crear un environment nuevo llamado `environment_de_file` desde un archivo `.yml` escribe lo siguiente:\n",
    "\n",
    "`conda env create --file environment.yml --name environment_de_file`"
   ]
  },
  {
   "cell_type": "markdown",
   "id": "212bf619",
   "metadata": {},
   "source": [
    "Para mas informacion:\n",
    "    \n",
    "   <a href=\"https://docs.conda.io/projects/conda/en/latest/user-guide/tasks/manage-environments.html#creating-an-environment-from-an-environment-yml-file\">Info de Python</a>"
   ]
  },
  {
   "cell_type": "markdown",
   "id": "0e2d451b",
   "metadata": {},
   "source": [
    "# TAREA\n",
    "\n",
    "1. **Área de un Triángulo**\n",
    "\n",
    "   - Pedir al usuario que ingrese la longitud de la base y la altura de un triángulo.\n",
    "\n",
    "   - Calcular el área del triángulo y mostrar el resultado."
   ]
  },
  {
   "cell_type": "code",
   "execution_count": 1,
   "id": "ddb4657d",
   "metadata": {},
   "outputs": [
    {
     "name": "stdout",
     "output_type": "stream",
     "text": [
      "Ingresa la longitud de la base del triángulo: 10\n",
      "Ingresa la altura del triángulo: 20\n",
      "El área del triángulo es: 100.0\n"
     ]
    }
   ],
   "source": [
    "# Pedir al usuario la base y la altura del triángulo\n",
    "base = float(input(\"Ingresa la longitud de la base del triángulo: \"))\n",
    "altura = float(input(\"Ingresa la altura del triángulo: \"))\n",
    "\n",
    "# Calcular el área del triángulo\n",
    "area = 0.5 * base * altura\n",
    "\n",
    "# Imprimir el área\n",
    "print(f\"El área del triángulo es: {area}\")\n"
   ]
  },
  {
   "cell_type": "markdown",
   "id": "48c74f86",
   "metadata": {},
   "source": [
    "2. **Conversión de Temperatura**\n",
    "\n",
    "   - Solicitar al usuario que ingrese una temperatura en grados Celsius.\n",
    "\n",
    "   - Convertir la temperatura a grados Fahrenheit utilizando la fórmula adecuada.\n",
    "\n",
    "   - Mostrar la temperatura en grados Fahrenheit."
   ]
  },
  {
   "cell_type": "code",
   "execution_count": 2,
   "id": "7eea7caf",
   "metadata": {},
   "outputs": [
    {
     "name": "stdout",
     "output_type": "stream",
     "text": [
      "Ingresa la temperatura en grados Celsius: 30\n",
      "30.0 grados Celsius son equivalentes a 86.0 grados Fahrenheit.\n"
     ]
    }
   ],
   "source": [
    "# Pedir al usuario una temperatura en grados Celsius\n",
    "celsius = float(input(\"Ingresa la temperatura en grados Celsius: \"))\n",
    "\n",
    "# Convertir a grados Fahrenheit\n",
    "fahrenheit = (celsius * 9/5) + 32\n",
    "\n",
    "# Imprimir la temperatura en grados Fahrenheit\n",
    "print(f\"{celsius} grados Celsius son equivalentes a {fahrenheit} grados Fahrenheit.\")\n"
   ]
  },
  {
   "cell_type": "markdown",
   "id": "75967a18",
   "metadata": {},
   "source": [
    "3. **Comparación de Números**\n",
    "\n",
    "   - Pedir al usuario que ingrese dos números.\n",
    "\n",
    "   - Comparar los números y determinar si son iguales o diferentes.\n",
    "\n",
    "   - Mostrar un mensaje que indique si los números son iguales o diferentes."
   ]
  },
  {
   "cell_type": "code",
   "execution_count": 3,
   "id": "74a2f5b1",
   "metadata": {},
   "outputs": [
    {
     "name": "stdout",
     "output_type": "stream",
     "text": [
      "Ingrese el primer número: 2\n",
      "Ingrese el segundo número: 2\n",
      "Los números son iguales.\n"
     ]
    }
   ],
   "source": [
    "# Pedir al usuario que ingrese dos números\n",
    "numero1 = float(input(\"Ingrese el primer número: \"))\n",
    "numero2 = float(input(\"Ingrese el segundo número: \"))\n",
    "\n",
    "# Comparar los números\n",
    "if numero1 == numero2:\n",
    "    mensaje = \"Los números son iguales.\"\n",
    "else:\n",
    "    mensaje = \"Los números son diferentes.\"\n",
    "\n",
    "# Mostrar el mensaje\n",
    "print(mensaje)\n"
   ]
  }
 ],
 "metadata": {
  "kernelspec": {
   "display_name": "Python 3 (ipykernel)",
   "language": "python",
   "name": "python3"
  },
  "language_info": {
   "codemirror_mode": {
    "name": "ipython",
    "version": 3
   },
   "file_extension": ".py",
   "mimetype": "text/x-python",
   "name": "python",
   "nbconvert_exporter": "python",
   "pygments_lexer": "ipython3",
   "version": "3.10.9"
  }
 },
 "nbformat": 4,
 "nbformat_minor": 5
}
