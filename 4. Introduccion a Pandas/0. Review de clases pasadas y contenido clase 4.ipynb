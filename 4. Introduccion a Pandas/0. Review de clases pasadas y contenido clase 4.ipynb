{
 "cells": [
  {
   "cell_type": "markdown",
   "id": "755d4b05",
   "metadata": {},
   "source": [
    "# Ciencia de Datos y Machine Learning con Python Clase 4\n",
    "\n",
    "\n",
    "* Esta clase cubre:\n",
    "    * Archivos - Abrir y hacer nuestros propio archivos.\n",
    "    * Manipulacion de datos con Pandas\n",
    " \n",
    " "
   ]
  },
  {
   "cell_type": "markdown",
   "id": "dc796ab8",
   "metadata": {},
   "source": [
    "## Review de las clases pasadas\n",
    "\n"
   ]
  },
  {
   "cell_type": "markdown",
   "id": "7c3833fa",
   "metadata": {},
   "source": [
    "## Clase 1\n",
    "\n",
    "### Tipos de datos en Python\n",
    "\n",
    "* entero (int) - 5\n",
    "* string (str) - \"hello world\"\n",
    "* float (flt) - 5.3\n",
    "\n",
    "### Variables \n",
    "\n",
    "* Usa `=` para dar valor \n",
    "\n",
    "```\n",
    "a = 17 # asignar el valor de 17 a la variable a\n",
    "\n",
    "# Nombres descriptivos es una practica comunmente utilizada en programacion \n",
    "guionbajo_por_espacio = \"buena, variable\"\n",
    "```\n",
    "\n",
    "### Operators\n",
    "\n",
    "* Python puede ser una calculadora\n",
    "\n",
    "```\n",
    "5 + 3 # 8\n",
    "\n",
    "# Funciona con variables\n",
    "a = 5\n",
    "b = ((3 + a) - 235345)\n",
    "\n",
    "a * b // 5 # -235337\n",
    "```\n",
    "\n",
    "* Tambien funciona para concatinar strings\n",
    "\n",
    "```\n",
    "a = 'Data Science '\n",
    "b = 'and Machine Learning'\n",
    "\n",
    "a + b # 'Data Science and Machine Learning'\n",
    "```\n",
    "\n",
    "### Pedir al usuario un input\n",
    "\n",
    "* Si quieres que el usuario te de un input\n",
    "\n",
    "```\n",
    "nombre = input(\"Como te llamas?\")\n",
    "print(\"Hello\", nombre\") # Tambien puedes usar print(f'Hello {nombre}') o print(\"hello\" + nombre)\n",
    "```\n",
    "\n",
    "### Cambiar Tipo de Dato\n",
    "\n",
    "```\n",
    "a = \"5\"\n",
    "type(a) # str\n",
    "b = int(a)\n",
    "type(b) # int\n",
    "```\n",
    "\n",
    "### Condicionales (control flow)\n",
    "\n",
    "* Para manejar el *flujo o flow* usamos if para cumplir una condicion o no y seguir con el programa\n",
    "\n",
    "```\n",
    "if 5 == 5:\n",
    "    print(\"yup, 5 es 5\")\n",
    "else:\n",
    "    print(\"El mundo esta en fuego!\")\n",
    "```"
   ]
  },
  {
   "cell_type": "markdown",
   "id": "126272bd",
   "metadata": {},
   "source": [
    "---"
   ]
  },
  {
   "cell_type": "markdown",
   "id": "1598eecf",
   "metadata": {},
   "source": [
    "## Clase 2 Parte 1\n",
    "\n",
    "### Introduccion a Jupyter Notebook\n",
    "\n",
    "\n",
    "### Estructura de Jupyter Notebook \n",
    "\n",
    "* Modo Editor.\n",
    "* Modo Comando.\n",
    "\n",
    "#### Modo editor\n",
    "\n",
    "* La celda en modo editor es color verde y permite escribir texto.\n",
    "\n",
    "#### Modo comando\n",
    "\n",
    "* La celda modo comando es color azul y permite utilizar comando sobre la celda seleccionada.\n",
    "\n",
    "EJEMPLO\n",
    "\n",
    "1. D,D = Elimina celda.\n",
    "2. B   = Inserta celda abajo de la celda seleccionada (BELOW).\n",
    "3. A   = Inserta celda arriba de la celda seleccionada (Above).\n",
    "\n",
    "\n",
    "### Celdas\n",
    "\n",
    "* Markdown.\n",
    "* Raw. \n",
    "* Code.\n",
    "\n",
    "Para mas info vayan al siguiente link [Clase 2. Introduccion a Juputer](https://github.com/carlosgarcia-verdugo/Ciencia-de-Datos-y-AI-con-Python/blob/main/2%20-%20Introduccion%20a%20Jupyter%20y%20Python%20parte%202/1.%20Introducci%C3%B3n%20Jupyter.ipynb)"
   ]
  },
  {
   "cell_type": "raw",
   "id": "91006c80",
   "metadata": {},
   "source": [
    "asdasdas"
   ]
  },
  {
   "cell_type": "markdown",
   "id": "76bdb70f",
   "metadata": {},
   "source": [
    "---"
   ]
  },
  {
   "cell_type": "markdown",
   "id": "16acd5aa",
   "metadata": {},
   "source": [
    "## Clase 2 Parte 2\n",
    "\n",
    "### Introduccion a Python Parte 2\n",
    "\n",
    "\n",
    "### Listas \n",
    "\n",
    "* Secuencia de valores."
   ]
  },
  {
   "cell_type": "code",
   "execution_count": 4,
   "id": "7e7d2619",
   "metadata": {},
   "outputs": [
    {
     "name": "stdout",
     "output_type": "stream",
     "text": [
      "[1, 2, 1000, 4, 5, 'Orange']\n"
     ]
    }
   ],
   "source": [
    "# Crear Listas\n",
    "list1 = ['apples', 'oranges', 'pears', 'peaches']\n",
    "list2 = [1, 2,1000, 4, 5, 'Orange']\n",
    "print(list2)"
   ]
  },
  {
   "cell_type": "markdown",
   "id": "0421f0fa",
   "metadata": {},
   "source": [
    "### Slicing\n",
    "\n",
    "* Slices nos ayudan a obtener subsets de listas[Inicio:Final:Salto]"
   ]
  },
  {
   "cell_type": "code",
   "execution_count": 5,
   "id": "2ed91984",
   "metadata": {},
   "outputs": [
    {
     "data": {
      "text/plain": [
       "[1, 2, 1000]"
      ]
     },
     "execution_count": 5,
     "metadata": {},
     "output_type": "execute_result"
    }
   ],
   "source": [
    "list2[0:3]"
   ]
  },
  {
   "cell_type": "code",
   "execution_count": 6,
   "id": "7b81ee16",
   "metadata": {},
   "outputs": [
    {
     "data": {
      "text/plain": [
       "['apples']"
      ]
     },
     "execution_count": 6,
     "metadata": {},
     "output_type": "execute_result"
    }
   ],
   "source": [
    "list1[:5:4]"
   ]
  },
  {
   "cell_type": "markdown",
   "id": "8db29fe3",
   "metadata": {},
   "source": [
    "### Iteraciones\n",
    "\n",
    "* While y for loops\n",
    "\n",
    "#### While\n",
    "\n",
    "while condicion: <------ usa dos puntos o el loop no funcionara\n",
    "    # codigo en el while loop block\n",
    "    \n",
    "    REPETIR HASTA QUE NO SE CUMPLA LA CONDICION\n",
    "    "
   ]
  },
  {
   "cell_type": "code",
   "execution_count": null,
   "id": "69fb0006",
   "metadata": {},
   "outputs": [],
   "source": [
    "# LOS WHILE LOOPS PUEDEN TENER CONDICIONES INFINITAS\n",
    "n = 5\n",
    "# DANGER CODE\n",
    "while n > 0:\n",
    "      print(\"IZANAMI\")"
   ]
  },
  {
   "cell_type": "code",
   "execution_count": 8,
   "id": "6f562814",
   "metadata": {},
   "outputs": [
    {
     "name": "stdout",
     "output_type": "stream",
     "text": [
      "IZANAMI\n",
      "IZANAMI\n",
      "IZANAMI\n",
      "IZANAMI\n",
      "IZANAMI\n"
     ]
    }
   ],
   "source": [
    "n = 5\n",
    "contador = 0\n",
    "# DANGER CODE\n",
    "while n > contador:\n",
    "      print(\"IZANAMI\")\n",
    "      contador += 1 # ESTO ES IGUAL QUE PONER contador = contador + 1"
   ]
  },
  {
   "cell_type": "markdown",
   "id": "c6f74b50",
   "metadata": {},
   "source": [
    "### For \n",
    "\n",
    "For loop syntax\n",
    "for <Variable arbitraria> in <Establece limite>:<------ usa dos puntos o el loop no funcionara\n",
    "    <codigo en el for loop block>\n",
    "    < mas codigo en el for loop block>\n",
    "\n",
    "<Codigo despues del for loop>\n",
    "    \n",
    "    EJEMPLO"
   ]
  },
  {
   "cell_type": "code",
   "execution_count": 10,
   "id": "1addc9a1",
   "metadata": {},
   "outputs": [
    {
     "name": "stdout",
     "output_type": "stream",
     "text": [
      "Total:  3\n",
      "Total:  44\n",
      "Total:  56\n",
      "Total:  65\n",
      "Total:  139\n",
      "Total:  154\n",
      "Total:  901\n",
      "Total:  904\n",
      "Total:  988\n",
      "Estamos haciendo esto basicamente 988\n"
     ]
    }
   ],
   "source": [
    "total = 0\n",
    "for i in [3, 41, 12, 9, 74, 15, 747, 3, 84]:\n",
    "    total +=  i # ESTO ES IGUAL a total = total + i\n",
    "    print('Total: ', total)\n",
    "\n",
    "print('Estamos haciendo esto basicamente', 3+41+12+9+74+15+747+3+84)"
   ]
  },
  {
   "cell_type": "markdown",
   "id": "46730cf9",
   "metadata": {},
   "source": [
    "Para mas info vayan al siguiente link [Clase 2. Introduccion a Python parte 2](https://github.com/carlosgarcia-verdugo/Ciencia-de-Datos-y-AI-con-Python/blob/main/2%20-%20Introduccion%20a%20Jupyter%20y%20Python%20parte%202/2.%20Introduccion%20a%20Python%202da%20Parte.ipynb)"
   ]
  },
  {
   "cell_type": "markdown",
   "id": "efc46d5f",
   "metadata": {},
   "source": [
    "## Clase 3 \n",
    "\n",
    "### Introduccion a Python Parte 3\n",
    "\n",
    "\n",
    "### Funciones \n",
    "\n"
   ]
  },
  {
   "cell_type": "markdown",
   "id": "d4d41b71",
   "metadata": {},
   "source": [
    "### Crear nuestras propias funciones\n",
    "\n",
    "* Python permite crear tus propias funciones usando el siguiente Syntax:\n",
    "\n",
    "```\n",
    "def nombre_funcion(parametro_1, parametro_2):\n",
    "\"\"\"USUALMENTE ESCRIBES QUE HACE LA FUNCION AQUI (OPCIONAL).\"\"\"\n",
    "\n",
    "    Codigo de funcion\n",
    "    mas codigo\n",
    "    \n",
    "    return <expresion>\n",
    "```\n",
    "\n",
    "* Para *llamar* una funcion escribes el nombre de la funcion con parentesis.\n",
    "* Si la funcion necesita argumentos, estas se colocan dentro de parentesis.\n",
    "```\n",
    "nombre_funcion(valor_1, valor_2)\n",
    "```\n",
    "\n",
    "\n",
    "EJEMPLO"
   ]
  },
  {
   "cell_type": "code",
   "execution_count": 1,
   "id": "df2f9f54",
   "metadata": {},
   "outputs": [],
   "source": [
    "# Funcion de suma de dos numeros y describir lo que hace la funcion (practica comun en programacion)\n",
    "def suma_dos_numeros(num1, num2):\n",
    "    \"\"\"\n",
    "    Function name: suma_dos_numeros\n",
    "    Parametros(s): num1, num2\n",
    "    Descripcion: Esta funcion suma dos numeros\n",
    "    Devuelve: Esta funcion devuelve la suma de dos numeros\n",
    "    \"\"\"\n",
    "    # suma dos parametros y guarda en una variable nueva\n",
    "    suma_de_dos_numeros = num1 + num2\n",
    "    # devuelve dicha variable\n",
    "    return suma_de_dos_numeros"
   ]
  },
  {
   "cell_type": "code",
   "execution_count": 2,
   "id": "9f0915b7",
   "metadata": {},
   "outputs": [
    {
     "data": {
      "text/plain": [
       "5"
      ]
     },
     "execution_count": 2,
     "metadata": {},
     "output_type": "execute_result"
    }
   ],
   "source": [
    "# Correr la funcion con dos argumentos\n",
    "suma_dos_numeros(1, 4)"
   ]
  },
  {
   "cell_type": "code",
   "execution_count": 3,
   "id": "7c49fd47",
   "metadata": {},
   "outputs": [
    {
     "name": "stdout",
     "output_type": "stream",
     "text": [
      "25\n"
     ]
    }
   ],
   "source": [
    "# Guardar valores en una funcion\n",
    "result = suma_dos_numeros(20, 5)\n",
    "print(result)"
   ]
  },
  {
   "cell_type": "markdown",
   "id": "d4d9eb75",
   "metadata": {},
   "source": [
    "Para mas info vayan al siguiente link [Clase 2. Introduccion a Python parte 3](https://github.com/carlosgarcia-verdugo/Ciencia-de-Datos-y-AI-con-Python/tree/main/3.%20Introduccion%20a%20Python%20Parte%20Tres.)"
   ]
  }
 ],
 "metadata": {
  "kernelspec": {
   "display_name": "Python 3 (ipykernel)",
   "language": "python",
   "name": "python3"
  },
  "language_info": {
   "codemirror_mode": {
    "name": "ipython",
    "version": 3
   },
   "file_extension": ".py",
   "mimetype": "text/x-python",
   "name": "python",
   "nbconvert_exporter": "python",
   "pygments_lexer": "ipython3",
   "version": "3.10.9"
  }
 },
 "nbformat": 4,
 "nbformat_minor": 5
}
