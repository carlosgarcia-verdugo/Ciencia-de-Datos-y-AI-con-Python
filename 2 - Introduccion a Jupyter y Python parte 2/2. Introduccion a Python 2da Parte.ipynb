{
 "cells": [
  {
   "cell_type": "markdown",
   "id": "f3d38b99",
   "metadata": {},
   "source": [
    "# Listas\n",
    "* Las listas en Python son una secuencia de valores.\n",
    "* Las listas son un tipo de estructura de datos muy utilizada en Python (creamos vectores, matrices, etc.)\n",
    "    * Los usaremos mucho *MUCHO* \n",
    "* Los valores en una lista pueden ser de cualquier tipo\n",
    "* Cada elemento tiene asignado un numero - su position o index. El primer index es 0, el segundo es 1 y asi consecutivamente.\n",
    "* Las listas se reconocen por corchetes (`[`  `]`) \n"
   ]
  },
  {
   "cell_type": "code",
   "execution_count": 2,
   "id": "8baf2977",
   "metadata": {},
   "outputs": [],
   "source": [
    "# Crear Listas\n",
    "list1 = ['apples', 'oranges', 'pears', 'peaches']\n",
    "list2 = [1, 2, 3, 4, 5];\n",
    "list3 = [\"a\", \"b\", \"c\", \"d\"]\n",
    "# La siguiente lista contiene diferentes tipos de valores\n",
    "list4 = [\"1\", \"2\", \"x\", \"y\", \"z\", True]"
   ]
  },
  {
   "cell_type": "code",
   "execution_count": 3,
   "id": "1eb536fd",
   "metadata": {},
   "outputs": [
    {
     "name": "stdout",
     "output_type": "stream",
     "text": [
      "<class 'list'>\n"
     ]
    }
   ],
   "source": [
    "print(type(list4))"
   ]
  },
  {
   "cell_type": "code",
   "execution_count": 4,
   "id": "44611c2c",
   "metadata": {},
   "outputs": [
    {
     "data": {
      "text/plain": [
       "[1, 3.5, 'derp', ['a', 'nested', 'list', 'of', 'strings']]"
      ]
     },
     "execution_count": 4,
     "metadata": {},
     "output_type": "execute_result"
    }
   ],
   "source": [
    "# creando listas dentro de listtas\n",
    "my_list = [1, 3.5, \"derp\", [\"a\", \"nested\", \"list\", \"of\", \"strings\"]]\n",
    "my_list"
   ]
  },
  {
   "cell_type": "code",
   "execution_count": 10,
   "id": "aeb42005",
   "metadata": {},
   "outputs": [
    {
     "data": {
      "text/plain": [
       "list"
      ]
     },
     "execution_count": 10,
     "metadata": {},
     "output_type": "execute_result"
    }
   ],
   "source": [
    "type(my_list)"
   ]
  },
  {
   "cell_type": "markdown",
   "id": "367725b5",
   "metadata": {},
   "source": [
    "* Acceder un elemento en la lista usando `list_name[number]` syntax"
   ]
  },
  {
   "cell_type": "code",
   "execution_count": 5,
   "id": "c43af9bd",
   "metadata": {},
   "outputs": [
    {
     "name": "stdout",
     "output_type": "stream",
     "text": [
      "<class 'int'>\n",
      "<class 'str'>\n"
     ]
    }
   ],
   "source": [
    "my_list[0]\n",
    "print(type(my_list[0]))\n",
    "print(type(my_list[2]))"
   ]
  },
  {
   "cell_type": "code",
   "execution_count": 8,
   "id": "1aa56044",
   "metadata": {},
   "outputs": [
    {
     "name": "stdout",
     "output_type": "stream",
     "text": [
      "apples\n",
      "peaches\n"
     ]
    }
   ],
   "source": [
    "# Acceder a valores en listas\n",
    "fruits = ['apples', 'oranges', 'pears', 'peaches', 'berries']\n",
    "print(fruits[0]) # Acceder al primer valor de la lista\n",
    "print(fruits[-1]) # Acceder al ultimo valor de la lista o tmb print(fruits[4])"
   ]
  },
  {
   "cell_type": "markdown",
   "id": "a434a4b4",
   "metadata": {},
   "source": [
    "# Las listas son mutables\n",
    "\n",
    "* Quiere decir que puedes cambiar valores dentro de listas\n",
    "\n",
    "\n"
   ]
  },
  {
   "cell_type": "code",
   "execution_count": 9,
   "id": "8269ce8f",
   "metadata": {},
   "outputs": [
    {
     "name": "stdout",
     "output_type": "stream",
     "text": [
      "[17, 245]\n",
      "[17, 5]\n"
     ]
    }
   ],
   "source": [
    "numeros = [17, 245]\n",
    "print(numeros)\n",
    "# cambiando el segundo elemento de la lista\n",
    "numeros[1] = 5\n",
    "print(numeros)"
   ]
  },
  {
   "cell_type": "code",
   "execution_count": 13,
   "id": "bdeb3027",
   "metadata": {},
   "outputs": [
    {
     "name": "stdout",
     "output_type": "stream",
     "text": [
      "['apples', 'oranges', 'pears', 'peaches', 'berries']\n",
      "['oranges', 'pears', 'peaches', 'berries']\n"
     ]
    }
   ],
   "source": [
    "# Remover Elementis de listas\n",
    "fruitas = ['apples', 'oranges', 'pears', 'peaches', 'berries']\n",
    "print(fruitas)\n",
    "del(fruitas[0])\n",
    "print(fruitas)"
   ]
  },
  {
   "cell_type": "markdown",
   "id": "40b4e74f",
   "metadata": {},
   "source": [
    "### Metodos de listas\n",
    "\n",
    "* mas alla de `remove()`, objetos en list tiene muchos metodos de manipulacion\n",
    "* Mas info [documentation](https://docs.python.org/3.5/tutorial/datastructures.html)\n",
    "* `append`, `extend` son otros metodos muy utilez"
   ]
  },
  {
   "cell_type": "code",
   "execution_count": 15,
   "id": "d2bb9174",
   "metadata": {},
   "outputs": [
    {
     "name": "stdout",
     "output_type": "stream",
     "text": [
      "['apples', 'oranges', 'pears', 'peaches', 'berries', 'banana']\n"
     ]
    }
   ],
   "source": [
    "# usa append para agregar elementos a listas\n",
    "fruitas2 = ['apples', 'oranges', 'pears', 'peaches', 'berries'];\n",
    "fruitas2.append('banana')\n",
    "print(fruitas2)"
   ]
  },
  {
   "cell_type": "code",
   "execution_count": 16,
   "id": "c07ed15e",
   "metadata": {},
   "outputs": [
    {
     "name": "stdout",
     "output_type": "stream",
     "text": [
      "['apples', 'oranges', 'pears', ['peaches', 'berries', 'banana']]\n"
     ]
    }
   ],
   "source": [
    "# Pero solo para elementos individuales\n",
    "fruits = ['apples', 'oranges', 'pears']\n",
    "more_fruits = ['peaches', 'berries', 'banana']\n",
    "fruits.append(more_fruits)\n",
    "print(fruits)"
   ]
  },
  {
   "cell_type": "code",
   "execution_count": 17,
   "id": "c276e20e",
   "metadata": {},
   "outputs": [
    {
     "data": {
      "text/plain": [
       "['apples',\n",
       " 'oranges',\n",
       " 'pears',\n",
       " ['peaches', 'berries', 'banana'],\n",
       " 'peaches',\n",
       " 'berries',\n",
       " 'banana']"
      ]
     },
     "execution_count": 17,
     "metadata": {},
     "output_type": "execute_result"
    }
   ],
   "source": [
    "# concatinar listas\n",
    "fruits + more_fruits"
   ]
  },
  {
   "cell_type": "markdown",
   "id": "a3750a74",
   "metadata": {},
   "source": [
    "### Checar contenido de listas\n",
    "\n",
    "* la keyword `in` nos ayuda a checar si hay un elemento en una lista "
   ]
  },
  {
   "cell_type": "code",
   "execution_count": 18,
   "id": "f2262793",
   "metadata": {},
   "outputs": [
    {
     "data": {
      "text/plain": [
       "True"
      ]
     },
     "execution_count": 18,
     "metadata": {},
     "output_type": "execute_result"
    }
   ],
   "source": [
    "lista_nombres = ['Erick', 'Valeria', 'Victor', 'Marius', \"Carlos\"]\n",
    "\"Victor\" in lista_nombres"
   ]
  },
  {
   "cell_type": "code",
   "execution_count": 19,
   "id": "a67853cb",
   "metadata": {},
   "outputs": [
    {
     "data": {
      "text/plain": [
       "False"
      ]
     },
     "execution_count": 19,
     "metadata": {},
     "output_type": "execute_result"
    }
   ],
   "source": [
    "\"Ched\" in lista_nombres"
   ]
  },
  {
   "cell_type": "markdown",
   "id": "2c9a069f",
   "metadata": {},
   "source": [
    "* Nos ayuda para crear condiciones (if)"
   ]
  },
  {
   "cell_type": "code",
   "execution_count": 20,
   "id": "80c6711e",
   "metadata": {},
   "outputs": [
    {
     "name": "stdout",
     "output_type": "stream",
     "text": [
      "All good\n"
     ]
    }
   ],
   "source": [
    "if \"Valeria\" in lista_nombres:\n",
    "    print(\"All good\")\n",
    "else:\n",
    "    print(\"No esta ese nombre\")"
   ]
  },
  {
   "cell_type": "markdown",
   "id": "8b7a909f",
   "metadata": {},
   "source": [
    "### Slicing Lists\n",
    "\n",
    "* Slices nos ayuda a obtener subsets de listas [inicio:final:saltar]"
   ]
  },
  {
   "cell_type": "code",
   "execution_count": 21,
   "id": "e1d0d5fd",
   "metadata": {},
   "outputs": [],
   "source": [
    "# crear lista t\n",
    "t = ['a', 'b', 'c', 'd', 'e', 'f']"
   ]
  },
  {
   "cell_type": "code",
   "execution_count": 22,
   "id": "724519e8",
   "metadata": {},
   "outputs": [
    {
     "data": {
      "text/plain": [
       "['b', 'c']"
      ]
     },
     "execution_count": 22,
     "metadata": {},
     "output_type": "execute_result"
    }
   ],
   "source": [
    "# slice el segundo y tercer elemento\n",
    "t[1:3]"
   ]
  },
  {
   "cell_type": "code",
   "execution_count": null,
   "id": "dccd8ca4",
   "metadata": {},
   "outputs": [],
   "source": [
    "# slice los primeros 4 elementos\n",
    "t[:4]"
   ]
  },
  {
   "cell_type": "code",
   "execution_count": null,
   "id": "6303f534",
   "metadata": {},
   "outputs": [],
   "source": [
    "# Igual que arriba\n",
    "t[0:4]"
   ]
  },
  {
   "cell_type": "code",
   "execution_count": 24,
   "id": "fcdaf011",
   "metadata": {},
   "outputs": [
    {
     "data": {
      "text/plain": [
       "['a', 'd']"
      ]
     },
     "execution_count": 24,
     "metadata": {},
     "output_type": "execute_result"
    }
   ],
   "source": [
    "# Tambien podemos saltar elementos\n",
    "t[0:7:3]"
   ]
  },
  {
   "cell_type": "code",
   "execution_count": 25,
   "id": "b5883800",
   "metadata": {},
   "outputs": [
    {
     "data": {
      "text/plain": [
       "['d', 'e', 'f']"
      ]
     },
     "execution_count": 25,
     "metadata": {},
     "output_type": "execute_result"
    }
   ],
   "source": [
    "# Que va a imprimir?\n",
    "t[3:7]"
   ]
  },
  {
   "cell_type": "markdown",
   "id": "e90375d7",
   "metadata": {},
   "source": [
    "---"
   ]
  },
  {
   "cell_type": "markdown",
   "id": "6377295f",
   "metadata": {},
   "source": [
    "# Iteraciones\n",
    "\n",
    "* Iteraciones nos permite hacer loops que reducen la cantidad de codigo que debemos escribir para realizar una funcion\n",
    "\n",
    "\n",
    "* hay 2 tipos de looping, *while* loops y *for* loops\n",
    "\n",
    "\n",
    "## while loops...\n",
    "\n",
    "* `while` loops hara un looping mientras una condicion se cumpla \"SEA TRUE\" \n",
    "\n",
    "```\n",
    "while condicion: <------ usa dos puntos o el loop no funcionara\n",
    "    # codigo en el while loop block\n",
    "\n",
    "```\n",
    "\n",
    "* Ten cuidado de hacer una condicion que SIEMPRE SEA TRUE o haras un loop infinito!\n",
    "\n",
    "```\n",
    "# DANGER CODE\n",
    "while true: \n",
    "   print(\"Iteraciones nos permite hacer loops que reducen la cantidad de codigo que debemos escribir para realizar una funcion\")\n",
    "```\n",
    "\n",
    "### Ejemplo\n",
    "\n",
    "\n",
    "``` Python\n",
    "n = 5\n",
    "# DANGER CODE\n",
    "while n > 0:\n",
    "   print(\"IZANAMI\")\n",
    "```\n",
    "\n",
    "### COMO ARREGLAR\n",
    "``` Python\n",
    "n = 5\n",
    "contador = 0\n",
    "# DANGER CODE\n",
    "while n > contador:\n",
    "   print(\"IZANAMI\")\n",
    "    contador += 1 # ESTO ES IGUAL QUE PONER contador = contador + 1 \n",
    " ```"
   ]
  },
  {
   "cell_type": "markdown",
   "id": "cab74c41",
   "metadata": {},
   "source": [
    "## Pero  **for** loops son tu *real* best friend\n",
    "\n",
    "* `for` loops te permiten iterar sobre un ser o cumulo de elementos individuales `for` es el tipo de loop mas comun PRACTICALO!!!\n",
    "\n",
    "### For loop syntax\n",
    "\n",
    "```\n",
    "for <Variable arbitraria> in <Establece limite>:<------ usa dos puntos o el loop no funcionara\n",
    "    <codigo en el for loop block>\n",
    "    < mas codigo en el for loop block>\n",
    "    \n",
    "<Codigo despues del for loop>\n",
    "```\n",
    "\n",
    "### EJEMPLOS"
   ]
  },
  {
   "cell_type": "code",
   "execution_count": 27,
   "id": "5adb85e3",
   "metadata": {},
   "outputs": [
    {
     "name": "stdout",
     "output_type": "stream",
     "text": [
      "0\n",
      "1\n",
      "2\n",
      "3\n",
      "4\n",
      "5\n",
      "6\n",
      "7\n",
      "8\n",
      "9\n"
     ]
    }
   ],
   "source": [
    "# Iterating through a range of values using the range function\n",
    "for i in range(0, 10):\n",
    "    print(i)"
   ]
  },
  {
   "cell_type": "markdown",
   "id": "1a06aef0",
   "metadata": {},
   "source": [
    "* el `range(0,10)` actua como un *iterador*, que crea una lista de numeros\n",
    "* Tambien puedes dar una lista\n",
    "\n",
    "### EJEMPLO 2"
   ]
  },
  {
   "cell_type": "code",
   "execution_count": 30,
   "id": "ca8cd699",
   "metadata": {},
   "outputs": [
    {
     "name": "stdout",
     "output_type": "stream",
     "text": [
      "Happy New Year: Juan\n",
      "Happy New Year: Hugo\n",
      "Happy New Year: Elena\n",
      "Done!\n"
     ]
    }
   ],
   "source": [
    "amigos = ['Juan', 'Hugo', 'Elena'] #ESTO ES UNA LISTA\n",
    "\n",
    "for j in amigos:\n",
    "    print('Happy New Year:', j)\n",
    "print('Done!')"
   ]
  },
  {
   "cell_type": "code",
   "execution_count": 31,
   "id": "33e923f7",
   "metadata": {},
   "outputs": [
    {
     "name": "stdout",
     "output_type": "stream",
     "text": [
      "Count:  6\n"
     ]
    }
   ],
   "source": [
    "count = 0\n",
    "\n",
    "for i in [3, 41, 12, 9, 74, 15]:\n",
    "    count = count + 1\n",
    "print('Count: ', count)"
   ]
  },
  {
   "cell_type": "code",
   "execution_count": 32,
   "id": "352aeb55",
   "metadata": {},
   "outputs": [
    {
     "name": "stdout",
     "output_type": "stream",
     "text": [
      "Total:  988\n",
      "Estamos haciendo esto basicamente 988\n"
     ]
    }
   ],
   "source": [
    "total = 0\n",
    "for i in [3, 41, 12, 9, 74, 15, 747, 3, 84]:\n",
    "    total +=  i # ESTO ES IGUAL a total = total + i\n",
    "print('Total: ', total)\n",
    "\n",
    "print('Estamos haciendo esto basicamente', 3+41+12+9+74+15+747+3+84)"
   ]
  },
  {
   "cell_type": "markdown",
   "id": "bb082a74",
   "metadata": {},
   "source": [
    "## Ejemplo Iteraciones \n",
    "1. **Sumar numeros pares usando WHILE**\n",
    "    - Solicita al usuario un número entero positivo y calcula la suma de todos los números pares desde 1 hasta ese número.\n",
    "      "
   ]
  },
  {
   "cell_type": "code",
   "execution_count": 35,
   "id": "e5aa0526",
   "metadata": {},
   "outputs": [
    {
     "name": "stdout",
     "output_type": "stream",
     "text": [
      "Ingrese un numero entero positivo20\n",
      "La suma de numeros pares 20 es:  110\n"
     ]
    }
   ],
   "source": [
    "numero = int(input(\"Ingrese un numero entero positivo\"))\n",
    "suma = 0\n",
    "contador = 1\n",
    "\n",
    "while contador <= numero:\n",
    "    if contador % 2 == 0:\n",
    "        suma += contador\n",
    "    contador += 1\n",
    "print(\"La suma de numeros pares\", numero, \"es: \", suma)\n"
   ]
  },
  {
   "cell_type": "markdown",
   "id": "937451f4",
   "metadata": {},
   "source": [
    "### EJERCICIO SERIE FIBONACCI\n",
    "\n",
    "\n",
    "   ![Imagen](imagen/fibonacci.png)"
   ]
  },
  {
   "cell_type": "code",
   "execution_count": 46,
   "id": "ae4ec5b4",
   "metadata": {},
   "outputs": [
    {
     "name": "stdout",
     "output_type": "stream",
     "text": [
      "Ingrese cuantos numeros fib6\n",
      "Serie: \n",
      "0 , 1 , 1,2,3,5,"
     ]
    }
   ],
   "source": [
    "n = int(input(\"Ingrese cuantos numeros fib\"))\n",
    "\n",
    "#Inicializamos los 2 primeros numeros\n",
    "a,b=0,1\n",
    "\n",
    "if n <= 0:\n",
    "    print(\"Ingrese numero positivo\")\n",
    "elif n == 1:\n",
    "        print(\"Fibonacci Serie: \")\n",
    "        print(a)\n",
    "else: \n",
    "      print(\"Serie: \")\n",
    "      print(a, \",\", b, end=\" , \")\n",
    "      contador = 2\n",
    "      while contador < n:\n",
    "                fib = a + b\n",
    "                print(fib, end = \",\")\n",
    "                a = b\n",
    "                b = fib\n",
    "                contador += 1"
   ]
  },
  {
   "cell_type": "markdown",
   "id": "937bc8ff",
   "metadata": {},
   "source": [
    "## Ejercicio \n",
    "\n",
    "    "
   ]
  },
  {
   "cell_type": "markdown",
   "id": "c1d29fc6",
   "metadata": {},
   "source": [
    "2. **Factorial de un numero**\n",
    "    - Solicita al usuario un número entero y calcula su factorial utilizando un bucle for.\n",
    "![Imagen](imagen/factorial.png)"
   ]
  },
  {
   "cell_type": "code",
   "execution_count": 47,
   "id": "7b88010c",
   "metadata": {},
   "outputs": [
    {
     "name": "stdout",
     "output_type": "stream",
     "text": [
      "Ingrese un número entero: 5\n",
      "El factorial de 5 es: 120\n"
     ]
    }
   ],
   "source": [
    "numero = int(input(\"Ingrese un número entero: \"))\n",
    "factorial = 1\n",
    "\n",
    "if numero < 0:\n",
    "    print(\"No se puede calcular el factorial de un número negativo.\")\n",
    "elif numero == 0:\n",
    "    print(\"El factorial de 0 es 1.\")\n",
    "else:\n",
    "    for i in range(1, numero + 1):\n",
    "        factorial *= i\n",
    "    print(\"El factorial de\", numero, \"es:\", factorial)"
   ]
  },
  {
   "cell_type": "code",
   "execution_count": 48,
   "id": "c899f143",
   "metadata": {},
   "outputs": [
    {
     "name": "stdout",
     "output_type": "stream",
     "text": [
      "Ingrese un numero entero:  5\n",
      "The factorial of 5 is 120\n"
     ]
    }
   ],
   "source": [
    "num = int(input(\"Ingrese un numero entero:  \"))\n",
    "factorial = 1\n",
    "\n",
    "if num < 0:\n",
    "    print(\"No se puede calcular el factorial de un numero negativo\")\n",
    "elif num == 0:\n",
    "    print(\"el factorial de o es 1.\")\n",
    "else:\n",
    "    for i in range(1,num + 1):\n",
    "        factorial = factorial*i\n",
    "    print(\"The factorial of\",num,\"is\",factorial)"
   ]
  },
  {
   "cell_type": "markdown",
   "id": "bdd59e55",
   "metadata": {},
   "source": [
    "## TAREA HACER FIBONACCI CON LOOP FOR"
   ]
  },
  {
   "cell_type": "code",
   "execution_count": null,
   "id": "b4c61b51",
   "metadata": {},
   "outputs": [],
   "source": []
  }
 ],
 "metadata": {
  "kernelspec": {
   "display_name": "Python 3 (ipykernel)",
   "language": "python",
   "name": "python3"
  },
  "language_info": {
   "codemirror_mode": {
    "name": "ipython",
    "version": 3
   },
   "file_extension": ".py",
   "mimetype": "text/x-python",
   "name": "python",
   "nbconvert_exporter": "python",
   "pygments_lexer": "ipython3",
   "version": "3.10.9"
  }
 },
 "nbformat": 4,
 "nbformat_minor": 5
}
