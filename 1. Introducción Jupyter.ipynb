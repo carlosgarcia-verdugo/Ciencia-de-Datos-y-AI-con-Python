{
 "cells": [
  {
   "cell_type": "markdown",
   "id": "b5a37b91",
   "metadata": {},
   "source": [
    "# Introducción a Jupyter\n",
    "\n",
    "- Estructura de Jupyter Notebook\n",
    "---"
   ]
  },
  {
   "cell_type": "markdown",
   "id": "c186ea3e",
   "metadata": {},
   "source": [
    "# Estructura de Jupyter Notebook\n",
    "\n",
    "* Ve a File -> New -> Notebook\n",
    "* Jupyter Notebook en blanco\n",
    "\n",
    "Jupyter tiene dos modos\n",
    "1. Modo Editor.\n",
    "2. Modo comando."
   ]
  },
  {
   "cell_type": "markdown",
   "id": "1727f097",
   "metadata": {},
   "source": [
    "## Modo editor\n",
    "\n",
    "* La celda se pone color verde y te permite escribir."
   ]
  },
  {
   "cell_type": "markdown",
   "id": "a8eaf3c3",
   "metadata": {},
   "source": [
    "## Modo comando\n",
    "\n",
    "- (ESC) Hará que la celda se ponga en color azul, lo que significa que esta en modo comando.\n",
    "\n",
    "## Comandos comunes (Shortchuts)\n",
    "\n",
    "* M hará la celda modo Markdown.\n",
    "* C hará la celda modo codigo.\n",
    "* R hará la celda modo Raw.\n",
    "* A Añadirá una celda arriba de la seleccionada.\n",
    "* B Añadirá una celda debajo de la seleccionada.\n",
    "* D,D (Dos veces d) eliminará la celda seleccionada.\n",
    "* Ctr-z Deshacer lo útimo que hiciste.\n",
    "* Ctr-r Rehacer lo último que hiciste.\n",
    "\n",
    "* Más información en el panel superior -> Help -> Keyboard Shortcuts.\n"
   ]
  },
  {
   "cell_type": "markdown",
   "id": "f47f3b19",
   "metadata": {},
   "source": [
    "## Celdas \n",
    "\n",
    "- Las Notebooks de Jupyter estan compuestas de una serie de celdas.\n",
    "- Las celdas pueden ser *Executed* causando diferentes comportamientos dependiento el tipo de celda.\n",
    "- Hay tres tipos de celdas:\n",
    "    - Markdown.\n",
    "    - Raw.\n",
    "    - Code."
   ]
  },
  {
   "cell_type": "markdown",
   "id": "f80d3477",
   "metadata": {},
   "source": [
    "## Celdas Markdown\n",
    "\n",
    "- Usadas para escribir texto que directamente se haran formato HTML.\n",
    "\n",
    "Más información puede ser encontrado en el siguiente link:\n",
    "<http://daringfireball.net/projects/markdown/>"
   ]
  },
  {
   "cell_type": "markdown",
   "id": "08b2cafb",
   "metadata": {},
   "source": [
    "Pueden crear texto *italic* y **Bold**"
   ]
  },
  {
   "cell_type": "markdown",
   "id": "3ea33b56",
   "metadata": {},
   "source": [
    "Pueden crear listas con **bullets** o con **numeros** al igual que sublistas:\n",
    "\n",
    "* Lista\n",
    "    - Sublista\n",
    "        - Subsublista\n",
    "    - Sublista\n",
    "        - Subsublista\n",
    "* Lista \n",
    "  - Sublista\n",
    "* Lista\n",
    "  - Sublista\n",
    "\n",
    "Lista con numeros:\n",
    "\n",
    "1. Lista\n",
    "    1. Sublista\n",
    "    2. Sublista\n",
    "2. Lista\n",
    "3. Lista"
   ]
  },
  {
   "cell_type": "markdown",
   "id": "011b24e6",
   "metadata": {},
   "source": [
    "\n",
    " Pueden agregar lineas horizonales:\n",
    " \n",
    " ---"
   ]
  },
  {
   "cell_type": "markdown",
   "id": "b4f73d3e",
   "metadata": {},
   "source": [
    "Crear bloques de citas:\n",
    "\n",
    "> Beautiful is better than ugly.\n",
    "> Explicit is better than implicit.\n",
    "> Simple is better than complex.\n",
    "> Complex is better than complicated.\n",
    "> Flat is better than nested.\n",
    "> Sparse is better than dense.\n",
    "> Readability counts.\n",
    "> Special cases aren't special enough to break the rules.\n",
    "> Although practicality beats purity.\n",
    "> Errors should never pass silently.\n",
    "> Unless explicitly silenced.\n",
    "> In the face of ambiguity, refuse the temptation to guess.\n",
    "> There should be one-- and preferably only one --obvious way to do it.\n",
    "> Although that way may not be obvious at first unless you're Dutch.\n",
    "> Now is better than never.\n",
    "> Although never is often better than *right* now.\n",
    "> If the implementation is hard to explain, it's a bad idea.\n",
    "> If the implementation is easy to explain, it may be a good idea.\n",
    "> Namespaces are one honking great idea -- let's do more of those!"
   ]
  },
  {
   "cell_type": "markdown",
   "id": "47342665",
   "metadata": {},
   "source": [
    "Agregar links con titulos:\n",
    "    \n",
    "    \n",
    "[Jupyter's website](http://jupyter.org)\n",
    "\n",
    "<a href=\"http://jupyter.org\">Pagina Jupyter</a>"
   ]
  },
  {
   "cell_type": "markdown",
   "id": "10cc0375",
   "metadata": {},
   "source": [
    "## Titulos\n",
    "\n",
    "Pueden agregar titulos al inicio de una celda con un (or multiples) `#` seguido de un espacio, por ejemplo:\n",
    "\n",
    "```\n",
    "# Tigulo 1\n",
    "# Titulo 2\n",
    "## Titulo 2.1\n",
    "## Titulo 2.2\n",
    "```"
   ]
  },
  {
   "cell_type": "markdown",
   "id": "2bf65930",
   "metadata": {},
   "source": [
    "## Incorporar Codigo para ilustrar\n",
    "\n",
    "Por ejemplo: \n",
    "\n",
    "```python\n",
    "def f(x):\n",
    "    \"\"\"a docstring\"\"\"\n",
    "    return x**2\n",
    "```\n",
    "o:\n",
    "\n",
    "```java\n",
    "if (i=0; i<n; i++) {\n",
    "  printf(\"hello %d\\n\", i);\n",
    "  x += 4;\n",
    "}\n",
    "```\n"
   ]
  },
  {
   "cell_type": "markdown",
   "id": "fae40468",
   "metadata": {},
   "source": [
    "### Ecuaciones con formato LaTeX \n",
    "\n",
    "Puedes incluir ecuaciones en lineas: \n",
    "$e^{i\\pi} + 1 = 0$  y fuera de la linea:\n",
    "\n",
    "$$e^x=\\sum_{i=0}^\\infty \\frac{1}{i!}x^i$$\n",
    "Ecuaciones en linea se usa un `$`:\n",
    "```\n",
    "$e^{i\\pi} + 1 = 0$\n",
    "```\n",
    "\n",
    "Ecuaciones fuera de la linea se usan dos `$$`:\n",
    "```latex\n",
    "$$e^x=\\sum_{i=0}^\\infty \\frac{1}{i!}x^i$$\n",
    "```"
   ]
  },
  {
   "cell_type": "markdown",
   "id": "e704eb94",
   "metadata": {},
   "source": [
    "## Incorporar imagenes\n",
    "\n",
    "Puedes incluir imagenes de la siguiente manera seguido:\n",
    "   <img src=\"anaconda.jpg\">\n",
    "   \n",
    "   o tambien:\n",
    "   ![Imagen](imagen/ironman.png)\n",
    "   \n",
    "   o incluso directo de internet como:\n",
    "   <img src=http://animals.sandiegozoo.org/sites/default/files/2016-09/animals_hero_armadillo_0.jpg>"
   ]
  },
  {
   "cell_type": "markdown",
   "id": "c6464723",
   "metadata": {},
   "source": [
    "## Celdas Raw\n",
    "\n",
    "- Dejar texto sin ser modificado ni editado (No se ejecutara nada sobre esa celda).\n",
    "- Dejar celdas en blanco sin ser ignoradas.\n",
    "\n",
    "por ejemplo:"
   ]
  },
  {
   "cell_type": "raw",
   "id": "324fa00f",
   "metadata": {},
   "source": [
    "if (i=0; i<n; i++) {\n",
    "  printf(\"hello %d\\n\", i);\n",
    "  x += 4;\n",
    "}"
   ]
  },
  {
   "cell_type": "raw",
   "id": "9d05b7ab",
   "metadata": {},
   "source": []
  },
  {
   "cell_type": "raw",
   "id": "cdfbe218",
   "metadata": {},
   "source": []
  },
  {
   "cell_type": "markdown",
   "id": "83a2b260",
   "metadata": {},
   "source": [
    "Las dos celdas anteriores son celdas raw."
   ]
  },
  {
   "cell_type": "markdown",
   "id": "73e215ec",
   "metadata": {},
   "source": [
    "## Celdas de codigo\n",
    "\n",
    "- Las **MEJORES CELDAS Y MAS DIVERTIDAS**.\n",
    "- Para escribir codigo que sera ejecutado o interpretado.\n"
   ]
  },
  {
   "cell_type": "code",
   "execution_count": 4,
   "id": "a90b32d4",
   "metadata": {},
   "outputs": [],
   "source": [
    "a = 10"
   ]
  },
  {
   "cell_type": "markdown",
   "id": "f69ea271",
   "metadata": {},
   "source": [
    "* Las variables se preservan entre celdas."
   ]
  },
  {
   "cell_type": "code",
   "execution_count": 5,
   "id": "4d94dc14",
   "metadata": {},
   "outputs": [
    {
     "name": "stdout",
     "output_type": "stream",
     "text": [
      "10\n"
     ]
    }
   ],
   "source": [
    "print(a)"
   ]
  },
  {
   "cell_type": "markdown",
   "id": "52f21478",
   "metadata": {},
   "source": [
    "* Puedes correr celdas fuera de orden\n",
    "* Por lo que debes tener cuidado con la estructura de tu Notebook!\n",
    "* Conmunmente se crean Notebooks que se corren en orden."
   ]
  },
  {
   "cell_type": "code",
   "execution_count": 9,
   "id": "6609c5e3",
   "metadata": {},
   "outputs": [
    {
     "name": "stdout",
     "output_type": "stream",
     "text": [
      "100\n"
     ]
    }
   ],
   "source": [
    "a = 100\n",
    "print (a)"
   ]
  },
  {
   "cell_type": "code",
   "execution_count": null,
   "id": "fc53da99",
   "metadata": {},
   "outputs": [],
   "source": []
  },
  {
   "cell_type": "markdown",
   "id": "a80799ef",
   "metadata": {},
   "source": [
    "Hay dos shortcuts para correr codigo:\n",
    "\n",
    "* `Alt-Enter` corre la celda seleccionada y crea una abajo.\n",
    "* `Ctrl-Enter` corre la celda seleccionada y entra en modo comando.\n",
    "\n"
   ]
  },
  {
   "cell_type": "markdown",
   "id": "38c61106",
   "metadata": {},
   "source": [
    "* En este tipo de celda vamos a examinar Data y generar graficas como la siguiente:"
   ]
  },
  {
   "cell_type": "code",
   "execution_count": 12,
   "id": "609a74fb",
   "metadata": {},
   "outputs": [
    {
     "data": {
      "image/png": "[encoded data removed]",
      "text/plain": [
       "<Figure size 640x480 with 1 Axes>"
      ]
     },
     "metadata": {},
     "output_type": "display_data"
    }
   ],
   "source": [
    "# En futuras clases veremos que significa todo esto!!\n",
    "\n",
    "import matplotlib.pyplot as plt\n",
    "import numpy as np\n",
    "\n",
    "x = np.linspace(0, 3*np.pi, 500)\n",
    "plt.plot(x, np.sin(x**2))\n",
    "plt.title('TITULO DE LA GRAFICA');"
   ]
  },
  {
   "cell_type": "markdown",
   "id": "70675faa",
   "metadata": {},
   "source": [
    "# Ejercicio\n",
    "\n",
    "- Crea una nueva Notebook\n",
    "- Cambia el titulo\n",
    "- Haz la primera celda Markdown and add agrega texto normal, bold e italic.\n",
    "- Crea una lista de lo que te gusta.\n",
    "- Agrega una imagen de lo que quieras.\n",
    "- crea una celda de codigo y escribe `print(\"Hello World!\")`."
   ]
  },
  {
   "cell_type": "markdown",
   "id": "360eec0e",
   "metadata": {},
   "source": [
    "# Felicidades!!! eres un Jovyan!!!!!!!!!!"
   ]
  }
 ],
 "metadata": {
  "kernelspec": {
   "display_name": "Python 3 (ipykernel)",
   "language": "python",
   "name": "python3"
  },
  "language_info": {
   "codemirror_mode": {
    "name": "ipython",
    "version": 3
   },
   "file_extension": ".py",
   "mimetype": "text/x-python",
   "name": "python",
   "nbconvert_exporter": "python",
   "pygments_lexer": "ipython3",
   "version": "3.10.9"
  }
 },
 "nbformat": 4,
 "nbformat_minor": 5
}
